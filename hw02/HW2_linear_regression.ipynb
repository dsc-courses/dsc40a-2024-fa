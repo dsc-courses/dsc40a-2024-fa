{
  "cells": [
    {
      "cell_type": "code",
      "execution_count": null,
      "id": "16b0a779-7b3c-4cf5-b8a2-b1a223a266fa",
      "metadata": {
        "id": "16b0a779-7b3c-4cf5-b8a2-b1a223a266fa"
      },
      "outputs": [],
      "source": [
        "import numpy as np\n",
        "import matplotlib.pyplot as plt"
      ]
    },
    {
      "cell_type": "markdown",
      "id": "cd6c30e6-dd8d-49ff-a94e-5b2df1c17c7b",
      "metadata": {
        "id": "cd6c30e6-dd8d-49ff-a94e-5b2df1c17c7b"
      },
      "source": [
        "# Problem: Does More Data Improve a Linear Fit?\n",
        "\n",
        "In this exercise, you will explore how adding more data points can improve a linear regression model. The task involves generating data from a linear model, adding noise, and analyzing how the model's fit improves as the number of data points increases.\n",
        "\n",
        "We will assume that there is a true linear relationship between a driver's speed $x$ and their lap time $y$ in a Formula 1 race, represented by the equation:\n",
        "$y = \\alpha x + \\beta$\n",
        "where  $\\alpha$  is the true slope and $\\beta$ is the true intercept. Your job is to estimate $\\alpha$ and $\\beta$ from noisy data using linear regression.\n",
        "\n",
        "## Data Generation:\n",
        "\n",
        "In order to use linear regression, we need data that is generated from a linear model. This does not mean that all the data points fall on the same exact line, but it does mean that a scatterplot of the data shows a general trend that seems to be increasing linearly. One way to generate data that would be appropriate for linear regression is to find points that fall on the same straight line, then bump those points up or down by a small amount.\n",
        "\n",
        "For our experiment, we will generate data in this way.\n",
        "Let $\\alpha$ and $\\beta$ be the true slope and intercept, respectively.\n",
        "Generate data by randomly choosing $x$ values from the interval $[-10, 10]$ and calculating corresponding $y$ values using the formula:\n",
        "$$\n",
        "y_i = \\alpha x_i + \\beta + \\epsilon_i\n",
        "$$\n",
        "where each $\\epsilon_i$ is a random noise term uniformly drawn from the interval $[-\\delta, \\delta]$.\n"
      ]
    },
    {
      "cell_type": "markdown",
      "source": [
        "## Task:\n",
        "\n",
        "Below we will outline the different components you need to code in order to complete this question. For each component we provide a function heading, which you need to complete, including defining the function arguements (inputs).\n",
        "\n",
        "### **Generate Data:**\n",
        "   - Randomly generate the true values $\\alpha$ and $\\beta$.\n",
        "   - Generate $n$ data points using the relationship above, where $\\epsilon_i$ represents noise added to the true model.\n"
      ],
      "metadata": {
        "id": "-DZltOAG9p-Y"
      },
      "id": "-DZltOAG9p-Y"
    },
    {
      "cell_type": "code",
      "source": [
        "alpha = np.random.uniform(1.0,5.0)\n",
        "beta = np.random.uniform(0.0,10.0)\n",
        "\n",
        "def generate_data():\n",
        "\n"
      ],
      "metadata": {
        "id": "DtGJCiwg9pJI"
      },
      "id": "DtGJCiwg9pJI",
      "execution_count": null,
      "outputs": []
    },
    {
      "cell_type": "markdown",
      "source": [
        "\n",
        "### **Fit a Linear Model:**\n",
        "   - Using the generated data, find the optimal slope $w_1^*$ and intercept $w_0^*$ by explicitly calculating the least squares estimates for a linear model:\n",
        "   $$y = w_1x + w_0$$\n"
      ],
      "metadata": {
        "id": "gOQFubNz94DM"
      },
      "id": "gOQFubNz94DM"
    },
    {
      "cell_type": "code",
      "source": [
        "def find_optimal_slope():\n",
        "\n",
        "\n",
        "\n",
        "def find_optimal_intercept():\n",
        "\n",
        ""
      ],
      "metadata": {
        "id": "Z6oraUmS-J23"
      },
      "id": "Z6oraUmS-J23",
      "execution_count": null,
      "outputs": []
    },
    {
      "cell_type": "markdown",
      "source": [
        "\n",
        "### **Evaluate the Fit:**\n",
        "\n",
        "To evalaute the quality of the solution, calculate the Empirical Risk $R_sq(w^*_0,w^*_1)$.\n",
        "\n",
        "\n",
        "\n"
      ],
      "metadata": {
        "id": "Ob1CoaS098lO"
      },
      "id": "Ob1CoaS098lO"
    },
    {
      "cell_type": "code",
      "source": [
        "def calculate_mse():"
      ],
      "metadata": {
        "id": "VDZ3Ejx1-RRe"
      },
      "id": "VDZ3Ejx1-RRe",
      "execution_count": null,
      "outputs": []
    },
    {
      "cell_type": "markdown",
      "source": [
        "### **Plotting**\n",
        "\n",
        "- Plot the generated data points, the true line $y = \\alpha x + \\beta$, and the fitted line $y = w_1^*x + w_0$ on the same plot.\n"
      ],
      "metadata": {
        "id": "21w5Hp_J_Iaa"
      },
      "id": "21w5Hp_J_Iaa"
    },
    {
      "cell_type": "code",
      "source": [
        "def plot_fit():"
      ],
      "metadata": {
        "id": "QzfPS7eE_xJe"
      },
      "id": "QzfPS7eE_xJe",
      "execution_count": null,
      "outputs": []
    },
    {
      "cell_type": "markdown",
      "source": [
        "\n",
        "## Experiments:\n",
        "You will need to include in the latex the plots that you generate in this question.\n",
        "\n",
        "- For each experiment below, report the estimated slope $a$ and intercept $b$, and compare them with the true values $\\alpha$ and $\\beta$.\n",
        "\n",
        "\n",
        "### **Experiment 1: Varying the Number of Points**\n",
        "   - Fix the uniform noise interval $\\delta = 1$.\n",
        "   - Vary the number of points $n = 2,5,7,10, 20, 50, 75, 100$.\n",
        "   - For each value of $n$, generate data, fit the model, calculate MSE, and plot MSE as a function of $n$.\n",
        "   - Generate 1 plot with 8 different subplots, one for each value of $n$, subplot each showing the true model, generated data points with noise, and the predicted model.\n",
        "\n",
        "### **Experiment 2: Varying the Noise Interval**\n",
        "   - Fix the number of points $n = 100$.\n",
        "   - Vary the uniform interval $\\delta = 0.1, 1, 5, 10$.\n",
        "   - For each value of $\\delta$, generate data, fit the model, calculate MSE, and plot MSE as a function of $\\delta$.\n",
        "   - Generate 1 plot with 4 subplots, one for each value of $\\delta$, each subplot such showing the true model, generated data points with noise, and the predicted model.\n",
        "\n",
        "\n",
        "\n",
        "\n",
        "\n"
      ],
      "metadata": {
        "id": "bGciOZOD99E1"
      },
      "id": "bGciOZOD99E1"
    },
    {
      "cell_type": "code",
      "source": [],
      "metadata": {
        "id": "fHlAdSm99_zB"
      },
      "id": "fHlAdSm99_zB",
      "execution_count": null,
      "outputs": []
    },
    {
      "cell_type": "markdown",
      "source": [
        "In the latex,\n",
        "\n",
        "- discuss how adding more data points improves the fit, and\n",
        "- how increasing noise impacts the model's accuracy.\n",
        "\n"
      ],
      "metadata": {
        "id": "QoVjGXlbAOFV"
      },
      "id": "QoVjGXlbAOFV"
    }
  ],
  "metadata": {
    "kernelspec": {
      "display_name": "Python 3 (ipykernel)",
      "language": "python",
      "name": "python3"
    },
    "language_info": {
      "codemirror_mode": {
        "name": "ipython",
        "version": 3
      },
      "file_extension": ".py",
      "mimetype": "text/x-python",
      "name": "python",
      "nbconvert_exporter": "python",
      "pygments_lexer": "ipython3",
      "version": "3.10.12"
    },
    "colab": {
      "provenance": []
    }
  },
  "nbformat": 4,
  "nbformat_minor": 5
}