{
 "cells": [
  {
   "cell_type": "code",
   "execution_count": null,
   "metadata": {},
   "outputs": [],
   "source": [
    "!pip install otter-grader==3.3.0"
   ]
  },
  {
   "cell_type": "code",
   "execution_count": null,
   "metadata": {},
   "outputs": [],
   "source": [
    "# Please don't change this cell, but do make sure to run it.\n",
    "import otter\n",
    "grader = otter.Notebook()"
   ]
  },
  {
   "cell_type": "markdown",
   "metadata": {},
   "source": [
    "# Homework 1 Supplementary Notebook\n",
    "\n",
    "## DSC 40A, Fall 2024\n",
    "\n",
    "In this notebook, you'll answer Problems 8(a) and 8(c) in Homework 1. In addition to submitting your answers PDF to the Homework 1 assignment on Gradescope, also submit this notebook to the Homework 1, Problems 8(a) and 8(c) autograder on Gradescope and **wait until you see all public test cases pass!** Note that there **are hidden test cases** for both parts."
   ]
  },
  {
   "cell_type": "markdown",
   "metadata": {
    "deletable": false,
    "editable": false
   },
   "source": [
    "<!--\n",
    "BEGIN QUESTION\n",
    "name: q6a\n",
    "points: 2\n",
    "-->\n",
    "\n",
    "### Problem 8(a)\n",
    "\n",
    "Suppose `vals` is a list of length $n-1$, containing the integers from 1 to $n$, inclusive, with no duplicates and in unsorted order, but with exactly 1 value missing. Complete the implementation of the function `missing_value_naive`, which takes in a list like `vals` and returns the number that is missing, as an `int`. Example behavior is given below.\n",
    "\n",
    "```py\n",
    ">>> missing_value_naive([2, 1, 5, 3])\n",
    "4\n",
    "\n",
    ">>> missing_value_naive([10, 9, 1, 6, 5, 7, 2, 4, 3])\n",
    "8\n",
    "```\n",
    "\n",
    "Note that it's fine if your implementation of `missing_value_naive` is slow – we're just grading that it's correct, it doesn't have to be efficient at all."
   ]
  },
  {
   "cell_type": "code",
   "execution_count": null,
   "metadata": {},
   "outputs": [],
   "source": [
    "def missing_value_naive(vals):\n",
    "    ..."
   ]
  },
  {
   "cell_type": "code",
   "execution_count": null,
   "metadata": {
    "deletable": false,
    "editable": false
   },
   "outputs": [],
   "source": [
    "grader.check(\"q6a\")"
   ]
  },
  {
   "cell_type": "markdown",
   "metadata": {},
   "source": [
    "### Problem 8(b)\n",
    "\n",
    "There's no code to write for Problem 8(b). Complete it in your homework PDF."
   ]
  },
  {
   "cell_type": "markdown",
   "metadata": {
    "deletable": false,
    "editable": false
   },
   "source": [
    "<!--\n",
    "BEGIN QUESTION\n",
    "name: q6c\n",
    "points: 2\n",
    "-->\n",
    "\n",
    "### Problem 8(c)\n",
    "\n",
    "Now, using your answer to Problem 8(b), complete the implementation of the function `missing_value_fast`. It should behave just like `missing_value_naive`, but should be significantly faster, since it can take advantage of the fact that you have a simple formula for $S_n$. Remember, the key principle is that the missing value is the difference between the sum we'd expect if none of the values were missing – **which is $S_n$** – and the sum of the values we actually have.\n",
    "\n",
    "Make sure that `missing_value_fast`, like `missing_value_naive`, returns an `int`.\n",
    "\n",
    "**Do not** use `sum(range(1, n+1))` in your implementation – your implementation can only use the `sum` function once."
   ]
  },
  {
   "cell_type": "code",
   "execution_count": null,
   "metadata": {},
   "outputs": [],
   "source": [
    "def missing_value_fast(vals):\n",
    "    ..."
   ]
  },
  {
   "cell_type": "code",
   "execution_count": null,
   "metadata": {
    "deletable": false,
    "editable": false
   },
   "outputs": [],
   "source": [
    "grader.check(\"q6c\")"
   ]
  },
  {
   "cell_type": "markdown",
   "metadata": {},
   "source": [
    "To test whether your implementation of `missing_value_fast` is significantly faster than your implementation of `missing_value_naive`, we will use the function `relative_speed`, defined below."
   ]
  },
  {
   "cell_type": "code",
   "execution_count": null,
   "metadata": {},
   "outputs": [],
   "source": [
    "import numpy as np\n",
    "import time\n",
    "def relative_speed(reps=100, n=1000):\n",
    "    t1 = time.time()\n",
    "    for _ in range(reps):\n",
    "        missing_value_naive(np.random.permutation(range(1, n+1))[:-1])\n",
    "    delta1 = time.time() - t1\n",
    "    \n",
    "    t2 = time.time()\n",
    "    for _ in range(reps):\n",
    "        missing_value_fast(np.random.permutation(range(1, n+1))[:-1])\n",
    "    delta2 = time.time() - t2\n",
    "    \n",
    "    return delta1 / delta2"
   ]
  },
  {
   "cell_type": "markdown",
   "metadata": {},
   "source": [
    "When you call `relative_speed` on the default arguments, you should see a speedup of at least 6x on average."
   ]
  },
  {
   "cell_type": "code",
   "execution_count": null,
   "metadata": {},
   "outputs": [],
   "source": [
    "relative_speed()"
   ]
  },
  {
   "cell_type": "markdown",
   "metadata": {},
   "source": [
    "<hr>\n",
    "\n",
    "## Ready to Submit?\n",
    "\n",
    "1. Select `Kernel -> Restart & Run All` to ensure that you have executed all cells, including the test cells. \n",
    "1. Read through the notebook to make sure all cells ran and all tests passed.\n",
    "1. Run the cell below to run all tests, and make sure that they all pass.\n",
    "1. Download your notebook using `File -> Download as -> Notebook (.ipynb)`, then upload your notebook to Gradescope.\n",
    "1. Stick around while the Gradescope autograder grades your work. Make sure you see that all tests have passed on Gradescope.\n",
    "\n",
    "Remember that we will run hidden test cases on your submission after the due date."
   ]
  },
  {
   "cell_type": "code",
   "execution_count": null,
   "metadata": {},
   "outputs": [],
   "source": [
    "grader.check_all()"
   ]
  }
 ],
 "metadata": {
  "kernelspec": {
   "display_name": "Python 3",
   "language": "python",
   "name": "python3"
  },
  "language_info": {
   "codemirror_mode": {
    "name": "ipython",
    "version": 3
   },
   "file_extension": ".py",
   "mimetype": "text/x-python",
   "name": "python",
   "nbconvert_exporter": "python",
   "pygments_lexer": "ipython3",
   "version": "3.12.1"
  }
 },
 "nbformat": 4,
 "nbformat_minor": 4
}
