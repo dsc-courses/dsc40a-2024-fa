{
 "cells": [
  {
   "cell_type": "code",
   "execution_count": null,
   "metadata": {},
   "outputs": [],
   "source": [
    "# Please don't change this cell, but do make sure to run it.\n",
    "import otter\n",
    "grader = otter.Notebook()"
   ]
  },
  {
   "cell_type": "markdown",
   "metadata": {},
   "source": [
    "# Homework 3 Supplemental Notebook\n",
    "\n",
    "## DSC 40A, Spring 2024\n",
    "\n",
    "In this notebook, you'll answer Problems 6(b) and 6(c) in Homework 3. In addition to submitting your answers PDF to the Homework 3 assignment on Gradescope, also submit this notebook to the Homework 3, Problems 6(b) and 6(c) autograder on Gradescope and **wait until you see all public test cases pass!** Note that there **are hidden test cases** for both parts."
   ]
  },
  {
   "cell_type": "code",
   "execution_count": null,
   "metadata": {},
   "outputs": [],
   "source": [
    "import numpy as np\n",
    "import matplotlib.pyplot as plt\n",
    "from itertools import combinations"
   ]
  },
  {
   "cell_type": "markdown",
   "metadata": {},
   "source": [
    "Below, we load in the example we're going to use in Problem 6. The $x$ values are stored in the array `x_values`, and the $y$ values are stored in the array `y_values`."
   ]
  },
  {
   "cell_type": "code",
   "execution_count": null,
   "metadata": {},
   "outputs": [],
   "source": [
    "data = np.genfromtxt('data/lad.csv', delimiter=',') # Import the data.\n",
    "\n",
    "def separate_data(data):\n",
    "    '''Separate an nx2 array of data into an x array and a y array.'''\n",
    "    x_values = data[:, 0]\n",
    "    y_values = data[:, 1]\n",
    "    return x_values, y_values\n",
    "\n",
    "x_values, y_values = separate_data(data)"
   ]
  },
  {
   "cell_type": "code",
   "execution_count": null,
   "metadata": {},
   "outputs": [],
   "source": [
    "x_values"
   ]
  },
  {
   "cell_type": "code",
   "execution_count": null,
   "metadata": {},
   "outputs": [],
   "source": [
    "y_values"
   ]
  },
  {
   "cell_type": "markdown",
   "metadata": {
    "deletable": false,
    "editable": false
   },
   "source": [
    "<!--\n",
    "BEGIN QUESTION\n",
    "name: q6b\n",
    "points: 3\n",
    "-->\n",
    "\n",
    "### Problem 6(b)\n",
    "\n",
    "Complete the implementation of the function `least_squares_regression`. It takes in two arrays, `x` and `y`, and should return a **tuple** of the form `(w0_star, w1_star)`, where `w0_star` and `w1_star` are the intercept and slope, respectively, of the linear hypothesis function that minimizes mean squared error when using `x` to predict `y`.\n",
    "\n",
    "Note that your implementation of `least_squares_regression` should work on any arrays `x` and `y`, not just the `x_values` and `y_values` arrays defined above."
   ]
  },
  {
   "cell_type": "code",
   "execution_count": null,
   "metadata": {},
   "outputs": [],
   "source": [
    "def least_squares_regression(x, y):\n",
    "    ..."
   ]
  },
  {
   "cell_type": "code",
   "execution_count": null,
   "metadata": {
    "deletable": false,
    "editable": false
   },
   "outputs": [],
   "source": [
    "grader.check(\"q6b\")"
   ]
  },
  {
   "cell_type": "markdown",
   "metadata": {},
   "source": [
    "Great! Run the cell below to find the equation of the least squares regression line for this dataset."
   ]
  },
  {
   "cell_type": "code",
   "execution_count": null,
   "metadata": {},
   "outputs": [],
   "source": [
    "intercept_sq, slope_sq = least_squares_regression(x_values, y_values)\n",
    "from IPython.display import Markdown\n",
    "Markdown(f'''\n",
    "The least squares regression line for our dataset is $H^*(x) = {round(intercept_sq, 4)} + {round(slope_sq, 4)}x$.\n",
    "''')"
   ]
  },
  {
   "cell_type": "markdown",
   "metadata": {},
   "source": [
    "Now, let's turn our attention to implementing least absolute deviation regression. Recall from the PDF the following statement:\n",
    "\n",
    "> If you have a dataset with $n$ data points in $\\mathbb{R}^k$, where $k \\leq n$, then one of the optimal LAD regression lines must pass through $k$ data points."
   ]
  },
  {
   "cell_type": "markdown",
   "metadata": {},
   "source": [
    "Our strategy, then, is to:\n",
    "\n",
    "1. Look at all possible pairs of points in `data`.\n",
    "1. Calculate the intercept and slope between each pair of points.\n",
    "1. Compute the mean absolute deviation of the predictions made by each line.\n",
    "1. Pick the intercept and slope that had the lowest mean absolute deviation.\n",
    "\n",
    "Steps 1 and 2 are implemented for you below. Try and understand how they work."
   ]
  },
  {
   "cell_type": "code",
   "execution_count": null,
   "metadata": {},
   "outputs": [],
   "source": [
    "def generate_all_unique_pairs(data):\n",
    "    \"\"\"Generate a list of all possible pairs of points from the data.\"\"\"\n",
    "    return list(combinations(data, 2))"
   ]
  },
  {
   "cell_type": "code",
   "execution_count": null,
   "metadata": {},
   "outputs": [],
   "source": [
    "def generate_all_lines(pairs_of_points):\n",
    "    \"\"\" Generate the (w0, w1) pair for the line that goes through each given pair of points.\n",
    "        Uses the fact that there is a unique line that passes through any two points.\n",
    "    \"\"\"\n",
    "    lines = []\n",
    "\n",
    "    for pair in pairs_of_points:\n",
    "        point_1, point_2 = pair\n",
    "        slope = (point_2[1] - point_1[1]) / (point_2[0] - point_1[0])\n",
    "        intercept = point_1[1] - slope * point_1[0]\n",
    "        lines.append((intercept, slope))\n",
    "\n",
    "    return lines"
   ]
  },
  {
   "cell_type": "markdown",
   "metadata": {},
   "source": [
    "The cell below defines a list, `lines`, which contains several tuples. Each tuple corresponds to the intercept and slope of a different line, which passes through a different pair of points in `data`."
   ]
  },
  {
   "cell_type": "code",
   "execution_count": null,
   "metadata": {},
   "outputs": [],
   "source": [
    "pairs = generate_all_unique_pairs(data) # Generate all unique pairs of data points from data.\n",
    "lines = generate_all_lines(pairs) # Generate all (w0, w1) pairs corresponding to each unique pair of data points.\n",
    "lines"
   ]
  },
  {
   "cell_type": "markdown",
   "metadata": {
    "deletable": false,
    "editable": false
   },
   "source": [
    "<!--\n",
    "BEGIN QUESTION\n",
    "name: q6c\n",
    "points: 5\n",
    "-->\n",
    "\n",
    "\n",
    "### Problem 6(c)\n",
    "\n",
    "Now, your job is to implement steps 3 and 4 of the process outlined above. That is, you must:\n",
    "\n",
    "3. Compute the mean absolute deviation of the predictions made by each line.\n",
    "4. Pick the intercept and slope that had the lowest mean absolute deviation.\n",
    "\n",
    "To do so, you'll implement the following two functions:\n",
    "\n",
    "**`mean_absolute_error`**\n",
    "\n",
    "Complete the implementation of the function `mean_absolute_error`. It should take in an intercept, `w0`, a slope, `w1`, and a 2D array `data`, and return the mean squared error of the predictions made by the line defined by `w0` and `w1` on the given `data`. That is, it should return the value of:\n",
    "\n",
    "$$R_{\\text{abs}}(w_0, w_1) = \\frac{1}{n} \\displaystyle\\sum_{i=1}^{n} \\big|y_i - (w_0 + w_1x_i)\\big|$$\n",
    "\n",
    "<br>\n",
    "\n",
    "**`find_best_mad_line`**\n",
    "\n",
    "Then, complete the implementation of `find_best_mad_line`. It should take in:\n",
    "\n",
    "- `lines`, a list of tuples, formatted like the variable `lines` defined above, and\n",
    "- `data`, a 2D array containing our dataset, formatted like the variable `data` defined above.\n",
    "\n",
    "It should loop through each `line` in `lines`, and return the `(w0, w1)` pair (as a **tuple**) that defines line with the lowest mean absolute error on the data. If multiple `(w0, w1)` pairs have the same lowest mean absolute error, you can return any one of them."
   ]
  },
  {
   "cell_type": "code",
   "execution_count": null,
   "metadata": {},
   "outputs": [],
   "source": [
    "def mean_absolute_error(w0, w1, data):\n",
    "    # After calling separate_data(data),\n",
    "    # x_values and y_values are defined the same way as in 6(b).\n",
    "    x_values, y_values = separate_data(data)\n",
    "    \n",
    "    ...\n",
    "    \n",
    "def find_best_mad_line(lines, data):\n",
    "    ..."
   ]
  },
  {
   "cell_type": "code",
   "execution_count": null,
   "metadata": {
    "deletable": false,
    "editable": false
   },
   "outputs": [],
   "source": [
    "grader.check(\"q6c\")"
   ]
  },
  {
   "cell_type": "markdown",
   "metadata": {},
   "source": [
    "Nice job – you've implemented the necessary steps to perform least absolute deviations regression! Let's call `find_best_mad_line` to see what the best least absolute deviations line is for our dataset."
   ]
  },
  {
   "cell_type": "code",
   "execution_count": null,
   "metadata": {},
   "outputs": [],
   "source": [
    "intercept_abs, slope_abs = find_best_mad_line(lines, data)"
   ]
  },
  {
   "cell_type": "code",
   "execution_count": null,
   "metadata": {},
   "outputs": [],
   "source": [
    "from IPython.display import Markdown\n",
    "Markdown(f'''\n",
    "The least absolute deviations line for our dataset is $H^*(x) = {round(intercept_abs, 4)} + {round(slope_abs, 4)}x$.\n",
    "''')"
   ]
  },
  {
   "cell_type": "markdown",
   "metadata": {},
   "source": [
    "### Problem 6(d)\n",
    "\n",
    "Now that we have calculated the least squares regression line and the least absolute deviation regression line for our data, let's try plotting them together to see the difference! Generate a scatter plot with the data in black, the least squares line in blue, and the LAD line red. \n",
    "\n",
    "Below is some code to get you started. Make use of the functions you have written above to find the slopes and intercepts of the blue and red lines. **Remember to include a picture of your plot in your PDF; this problem is not autograded.**"
   ]
  },
  {
   "cell_type": "code",
   "execution_count": null,
   "metadata": {},
   "outputs": [],
   "source": [
    "intercept_abs, slope_abs = find_best_mad_line(generate_all_lines(generate_all_unique_pairs(data)), data)\n",
    "intercept_sq, slope_sq = least_squares_regression(x_values, y_values)\n",
    "\n",
    "# Add your code to generate the plot here.\n",
    "..."
   ]
  },
  {
   "cell_type": "markdown",
   "metadata": {},
   "source": [
    "<hr>\n",
    "\n",
    "## Ready to Submit?\n",
    "\n",
    "1. Select `Kernel -> Restart & Run All` to ensure that you have executed all cells, including the test cells. \n",
    "1. Read through the notebook to make sure all cells ran and all tests passed.\n",
    "1. Run the cell below to run all tests, and make sure that they all pass.\n",
    "1. Download your notebook using `File -> Download as -> Notebook (.ipynb)`, then upload your notebook to Gradescope.\n",
    "1. Stick around while the Gradescope autograder grades your work. Make sure you see that all tests have passed on Gradescope.\n",
    "\n",
    "Remember that we will run hidden test cases on your submission after the due date."
   ]
  },
  {
   "cell_type": "code",
   "execution_count": null,
   "metadata": {},
   "outputs": [],
   "source": [
    "grader.check_all()"
   ]
  }
 ],
 "metadata": {
  "kernelspec": {
   "display_name": "Python 3 (ipykernel)",
   "language": "python",
   "name": "python3"
  },
  "language_info": {
   "codemirror_mode": {
    "name": "ipython",
    "version": 3
   },
   "file_extension": ".py",
   "mimetype": "text/x-python",
   "name": "python",
   "nbconvert_exporter": "python",
   "pygments_lexer": "ipython3",
   "version": "3.8.18"
  }
 },
 "nbformat": 4,
 "nbformat_minor": 4
}
