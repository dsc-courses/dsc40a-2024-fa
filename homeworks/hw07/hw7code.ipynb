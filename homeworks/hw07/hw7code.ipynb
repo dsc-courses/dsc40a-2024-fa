{
 "cells": [
  {
   "cell_type": "code",
   "execution_count": null,
   "metadata": {},
   "outputs": [],
   "source": [
    "# Please don't change this cell, but do make sure to run it.\n",
    "import otter\n",
    "grader = otter.Notebook()"
   ]
  },
  {
   "cell_type": "markdown",
   "metadata": {},
   "source": [
    "# Homework 7 Supplemental Notebook\n",
    "\n",
    "## DSC 40A, Fall 2024\n",
    "\n",
    "In this notebook, you'll answer problems 6(b) in Homework 7. In addition to submitting your answers PDF to the Homework 7 assignment on Gradescope, also submit this notebook to the Homework 7, Problems 6(b) autograder on Gradescope and **wait until you see all public test cases pass!** Note that there **are hidden test cases**."
   ]
  },
  {
   "cell_type": "markdown",
   "metadata": {},
   "source": [
    "Run the cell below to import the packages we'll need. Don't import any additional packages."
   ]
  },
  {
   "cell_type": "code",
   "execution_count": null,
   "metadata": {},
   "outputs": [],
   "source": [
    "import os\n",
    "import numpy as np\n",
    "import babypandas as bpd"
   ]
  },
  {
   "cell_type": "markdown",
   "metadata": {},
   "source": [
    "There are two major comic publishing companies in the US, Marvel Comics and DC Comics. For this problem, we will work with data gathered from [Marvel Wikia](http://marvel.wikia.com/Main_Page) and [DC Wikia](http://dc.wikia.com/wiki/Main_Page), which are publicly editable database of all things Marvel and DC. Our data was collected from these sites in 2014 by [FiveThirtyEight](https://fivethirtyeight.com/) for their article [Comic Books Are Still Made By Men, For Men And About Men](https://fivethirtyeight.com/features/women-in-comic-books/), which is a great read.  \n",
    "\n",
    "For this assignment, we've modified the original data by taking only characters that have a secret or public identity, identify as male or female, and have good, bad, or neutral alignment.  \n",
    "\n",
    "Run the cell below to see the DataFrame of characters, which is indexed by name and has the following columns:\n",
    "\n",
    "| Variable           | Definition |  \n",
    "| :---               |    :----   |\n",
    "| `ID`               | The identity status of the character (\"Public Identity\" or \"Secret Identity\")|  \n",
    "| `SEX`              | Sex of the character ( \"Male Characters\" or \"Female Characters\")        |  \n",
    "| `ALIVE`            | Whether the character is alive (\"Living Characters\" or \"Deceased Characters\")     |  \n",
    "| `COMPANY`      | The comic company that created the character (\"DC\" or \"Marvel\")       |  \n",
    "| `ALIGN`            | The alignment of the character (\"Bad Characters\", \"Good Characters\", or \"Neutral Characters\")    |  "
   ]
  },
  {
   "cell_type": "code",
   "execution_count": null,
   "metadata": {},
   "outputs": [],
   "source": [
    "comics = bpd.read_csv('data\\comics.csv').set_index('name')\n",
    "comics"
   ]
  },
  {
   "cell_type": "markdown",
   "metadata": {},
   "source": [
    "<h3> Part A: Popular Characters </h3>\n",
    "\n",
    "In part (a), we'll work with a dataset consisting of 25 of the more popular comic book characters. To see that DataFrame, run the cell below, or refer to the last page of the main assignment. "
   ]
  },
  {
   "cell_type": "code",
   "execution_count": null,
   "metadata": {
    "scrolled": true
   },
   "outputs": [],
   "source": [
    "popular = bpd.read_csv('data\\popular.csv').set_index('name')\n",
    "popular"
   ]
  },
  {
   "cell_type": "markdown",
   "metadata": {},
   "source": [
    "Your task is to use this set of 25 popular characters to make a prediction using Naive Bayes (without smoothing) for the following character's alignment:\n",
    "- \"Secret Identity\"\n",
    "- \"Male Characters\"\n",
    "- \"Living Characters\"\n",
    "- \"Marvel\"\n",
    "\n",
    "Your prediction should be \"Bad Characters\", \"Good Characters\", or \"Neutral Characters\", whichever is most likely according to Naive Bayes.\n",
    "\n",
    "The dataset is small enough that you should be able to do this example by hand.  Make sure to show your work in the main part of the assignment. You can use the results you got to check the code you'll write in part (b)."
   ]
  },
  {
   "cell_type": "markdown",
   "metadata": {},
   "source": [
    "**Notice that there is no autograder for 6(a)!**"
   ]
  },
  {
   "cell_type": "markdown",
   "metadata": {
    "deletable": false,
    "editable": false
   },
   "source": [
    "<!--\n",
    "BEGIN QUESTION\n",
    "name: q6b\n",
    "points: 7\n",
    "-->\n",
    "\n",
    "<h3> Part B: Implementing Naive Bayes </h3>\n",
    "    \n",
    "In part (b), you'll need to write code to implement Naive Bayes without smoothing to make predictions for any character's alignment, based on their features. \n",
    "\n",
    "Make sure your code works for any DataFrame of comic characters. You can try it out on both `popular` and `comics`.\n",
    "\n",
    "Make sure your code outputs one of the following strings: \"Bad Characters\", \"Good Characters\", \"Neutral Characters\"."
   ]
  },
  {
   "cell_type": "code",
   "execution_count": null,
   "metadata": {},
   "outputs": [],
   "source": [
    "def predict_align(df, identity, sex, alive, company):\n",
    "    '''Takes in a DataFrame of comic characters and the features of one particular character, \n",
    "    and returns the predicted alignment for that character according to Naive Bayes without smoothing,\n",
    "    using the input DataFrame of characters.'''\n",
    "    \n",
    "    return ..."
   ]
  },
  {
   "cell_type": "markdown",
   "metadata": {},
   "source": [
    "Now test your function by making a prediction. Try out different combinations of features and different DataFrames (`popular` or `comics`)."
   ]
  },
  {
   "cell_type": "code",
   "execution_count": null,
   "metadata": {},
   "outputs": [],
   "source": [
    "grader.check(\"q6b\")"
   ]
  },
  {
   "cell_type": "markdown",
   "metadata": {},
   "source": [
    "<hr>\n",
    "<h3> Ready to Submit? </h3>\n",
    "\n",
    "1. Select `Kernal -> Restart & Run All` to ensure that you have executed all cells, including the test cells.\n",
    "1. Read through the notebook to make sure all cells ran and all tests passed.\n",
    "1. Run the cell below to run all tests, and make sure that they all pass.\n",
    "1. Download your notebook using `File -> Download as -> Notebook (.ipynb)`, then upload your notebook to Gradescope.\n",
    "1. Stick around while the Gradescope autograder grades your work. Make sure you see that all tests have passed on Gradescope.\n",
    "\n",
    "Remember that we will run hidden test cases on your submission after the due date."
   ]
  },
  {
   "cell_type": "code",
   "execution_count": null,
   "metadata": {},
   "outputs": [],
   "source": [
    "grader.check_all()"
   ]
  }
 ],
 "metadata": {
  "kernelspec": {
   "display_name": "Python 3 (ipykernel)",
   "language": "python",
   "name": "python3"
  },
  "language_info": {
   "codemirror_mode": {
    "name": "ipython",
    "version": 3
   },
   "file_extension": ".py",
   "mimetype": "text/x-python",
   "name": "python",
   "nbconvert_exporter": "python",
   "pygments_lexer": "ipython3",
   "version": "3.11.5"
  }
 },
 "nbformat": 4,
 "nbformat_minor": 4
}
