{
 "cells": [
  {
   "cell_type": "code",
   "execution_count": null,
   "id": "2d378260",
   "metadata": {},
   "outputs": [],
   "source": [
    "# Please don't change this cell, but do make sure to run it.\n",
    "import otter\n",
    "grader = otter.Notebook()"
   ]
  },
  {
   "cell_type": "markdown",
   "id": "289040bb",
   "metadata": {},
   "source": [
    "# Homework 5 Supplemental Notebook\n",
    "\n",
    "## DSC 40A, Spring 2024"
   ]
  },
  {
   "cell_type": "code",
   "execution_count": null,
   "id": "781b9ee3",
   "metadata": {},
   "outputs": [],
   "source": [
    "import pandas as pd\n",
    "import numpy as np\n",
    "import matplotlib.pyplot as plt\n",
    "import plotly.express as px\n",
    "import plotly.graph_objects as go\n",
    "import plotly.io as pio\n",
    "from IPython.display import Markdown\n",
    "\n",
    "pd.options.plotting.backend = \"plotly\"\n",
    "\n",
    "# DSC 40A preferred styles.\n",
    "pio.templates[\"dsc40a\"] = go.layout.Template(\n",
    "    layout=dict(\n",
    "        margin=dict(l=30, r=30, t=30, b=30),\n",
    "        autosize=True,\n",
    "        xaxis=dict(showgrid=True),\n",
    "        yaxis=dict(showgrid=True),\n",
    "        title=dict(x=0.5, xanchor=\"center\"),\n",
    "    )\n",
    ")\n",
    "pio.templates.default = \"simple_white+dsc40a\"\n",
    "\n",
    "import warnings\n",
    "warnings.simplefilter('ignore')"
   ]
  },
  {
   "cell_type": "markdown",
   "id": "46b8303e",
   "metadata": {},
   "source": [
    "### Reminder\n",
    "\n",
    "<div class=\"alert alert-block alert-warning\" markdown=\"1\">\n",
    "\n",
    "This notebook **does not** need to be submitted! Instead, the part that uses it asks you to take screenshots of relevant pieces and include them in your Homework 8 PDF submission.\n",
    "\n",
    "</div>"
   ]
  },
  {
   "cell_type": "markdown",
   "id": "3a6f1891",
   "metadata": {},
   "source": [
    "## Problem 2\n",
    "\n",
    "Run the cell below to load in Billy's dataset as a `pandas` DataFrame."
   ]
  },
  {
   "cell_type": "code",
   "execution_count": null,
   "id": "35a79848",
   "metadata": {},
   "outputs": [],
   "source": [
    "tips = pd.read_csv('data/small_tips.csv')\n",
    "tips"
   ]
  },
  {
   "cell_type": "markdown",
   "id": "36f03724",
   "metadata": {},
   "source": [
    "### Problem 2(d)\n",
    "\n",
    "Let's now confirm that our prediction and computed probabilities are correct. First, start by assigning `p_small_manual`, `p_medium_manual`, and `p_large_manual` to your values for the following probabilities from part (c):\n",
    "\n",
    "$$P(\\text{Small } | \\text{ Male, Thur, Dinner})$$ \n",
    "$$P(\\text{Medium } | \\text{ Male, Thur, Dinner})$$\n",
    "$$P(\\text{Large } | \\text{ Male, Thur, Dinner})$$\n",
    "\n",
    "Don't round. You're free to define additional variables to break down the calculations for `p_small_manual`, `p_medium_manual`, and `p_large_manual` – that's what we did1"
   ]
  },
  {
   "cell_type": "code",
   "execution_count": null,
   "id": "4a606100",
   "metadata": {},
   "outputs": [],
   "source": [
    "p_small_manual = ...\n",
    "p_medium_manual = ...\n",
    "p_large_manual = ..."
   ]
  },
  {
   "cell_type": "markdown",
   "id": "88affdac",
   "metadata": {},
   "source": [
    "To verify that your answers above are correct, we will use the implementation of Naive Bayes built into `sklearn`, a popular machine learning package in Python. We've written most of the necessary code and will walk you through it – we'll show you how to write `sklearn` code on your own in DSC 80 😎.\n",
    "\n",
    "Run the cell below to import the `CategoricalNB` object from `sklearn`. (This stands for \"Categorical Naive Bayes\"; the variant of Naive Bayes we've discussed in class only works for categorical features, hence the \"Categorical\". There are versions of Naive Bayes that also work for numerical features, too!)"
   ]
  },
  {
   "cell_type": "code",
   "execution_count": null,
   "id": "72316f17",
   "metadata": {},
   "outputs": [],
   "source": [
    "from sklearn.naive_bayes import CategoricalNB"
   ]
  },
  {
   "cell_type": "markdown",
   "id": "d0ab26ed",
   "metadata": {},
   "source": [
    "A minor inconvenience is that `sklearn` expects all values in our data matrix to be numerical, even though all of our data is categorical. To get our data in the right format, we'll convert each column of `small_tips` individually to be numerical according to the following dictionaries:"
   ]
  },
  {
   "cell_type": "code",
   "execution_count": null,
   "id": "c2ab5a37",
   "metadata": {},
   "outputs": [],
   "source": [
    "sex_map = {'Male': 0, 'Female': 1}\n",
    "day_map = {'Thur': 0, 'Fri': 1, 'Sat': 2, 'Sun': 3}\n",
    "time_map = {'Lunch': 0, 'Dinner': 1}\n",
    "tip_cat_map = {'Small': 0, 'Medium': 1, 'Large': 2}"
   ]
  },
  {
   "cell_type": "markdown",
   "id": "d49ea56a",
   "metadata": {},
   "source": [
    "For instance, a female (1) customer coming on Saturday (2) for lunch (0) would have a feature vector of $[1, 2, 0]$. **Make sure you're comfortable with why this is the case before moving forward.**\n",
    "\n",
    "We'll apply these conversions to all columns in `tips`, and store the results in a new DataFrame called `tips_converted`."
   ]
  },
  {
   "cell_type": "code",
   "execution_count": null,
   "id": "3d6210a6",
   "metadata": {},
   "outputs": [],
   "source": [
    "def convert_tips_data(row):\n",
    "    return row.replace(sex_map).replace(day_map).replace(time_map).replace(tip_cat_map)\n",
    "\n",
    "tips_converted = tips.apply(convert_tips_data, axis=1)\n",
    "tips_converted"
   ]
  },
  {
   "cell_type": "markdown",
   "id": "40b70f58",
   "metadata": {},
   "source": [
    "Now that we have a converted data matrix, we can \"fit\" the `CategoricalNB` object. Run the following cell."
   ]
  },
  {
   "cell_type": "code",
   "execution_count": null,
   "id": "be0951e1",
   "metadata": {},
   "outputs": [],
   "source": [
    "model = CategoricalNB(alpha=1) # alpha=1 sets up smoothing the way we've discussed it in class.\n",
    "model.fit(X=tips_converted[['sex', 'day', 'time']], # X contains our features.\n",
    "          y=tips_converted['tip_cat'])              # y contains our \"true values\"."
   ]
  },
  {
   "cell_type": "markdown",
   "id": "e4a5f2d9",
   "metadata": {},
   "source": [
    "Now that our model is \"fit\", we can use it to make predictions. For instance, suppose we're interested in predicting whether a female (1) customer who comes to Dirty Birds on Saturday (2) for lunch (0) will leave a small, medium, or large-sized tip. We can do so as follows:"
   ]
  },
  {
   "cell_type": "code",
   "execution_count": null,
   "id": "878dec28",
   "metadata": {
    "scrolled": true
   },
   "outputs": [],
   "source": [
    "model.predict([[1, 2, 0]])"
   ]
  },
  {
   "cell_type": "markdown",
   "id": "11c7317f",
   "metadata": {},
   "source": [
    "The result is 2, which corresponds to large-sized tips. Thus, we predict that said customer will leave a large-sized tip."
   ]
  },
  {
   "cell_type": "markdown",
   "id": "113c9138",
   "metadata": {},
   "source": [
    "It turns out that `sklearn` also lets us peek under the hood and see the conditional probabilities of each class that it calculated. To see these probabilities, we use `predict_proba` instead of `predict`:"
   ]
  },
  {
   "cell_type": "code",
   "execution_count": null,
   "id": "73c84a3c",
   "metadata": {},
   "outputs": [],
   "source": [
    "model.predict_proba([[1, 2, 0]])"
   ]
  },
  {
   "cell_type": "markdown",
   "id": "e2d1bbdc",
   "metadata": {},
   "source": [
    "This is saying that $P(\\text{Small | Female, Saturday, Lunch}) = 0.38493307$, $P(\\text{Medium | Female, Saturday, Lunch}) = 0.11110313$, $P(\\text{Large | Female, Saturday, Lunch}) = 0.5039638$.\n",
    "\n",
    "<br><br>\n",
    "\n",
    "<p style=\"color:red\"><b>Your Job</b></p>\n",
    "\n",
    "Using `model.predict_proba`, determine what `sklearn` thinks $P(\\text{Small | Male, Thur, Dinner})$, $P(\\text{Medium | Male, Thur, Dinner})$, and $P(\\text{Large | Male, Thur, Dinner})$ are. Assign those probabilities to `p_small_sklearn`, `p_medium_sklearn`, and `p_large_sklearn`.\n",
    "\n",
    "If you did this part and part (c) correctly, `p_small_sklearn`, `p_medium_sklearn`, and `p_large_sklearn` should be equal to your answers from part (c) – `p_small_manual`, `p_medium_manual`, and `p_large_manual`."
   ]
  },
  {
   "cell_type": "code",
   "execution_count": null,
   "id": "faac2de2",
   "metadata": {},
   "outputs": [],
   "source": [
    "p_small_sklearn = ...\n",
    "p_medium_sklearn = ...\n",
    "p_large_sklearn = ...\n",
    "\n",
    "print('Through sklearn: P(Small | Male, Thur, Dinner) = ', ' ' * 10,  p_small_sklearn)\n",
    "print('Through manual calculation: P(Small | Male, Thur, Dinner) = ', p_small_manual, '\\n')\n",
    "\n",
    "print('Through sklearn: P(Medium | Male, Thur, Dinner) = ', ' ' * 10,  p_medium_sklearn)\n",
    "print('Through manual calculation: P(Medium | Male, Thur, Dinner) = ', p_medium_manual, '\\n')\n",
    "\n",
    "print('Through sklearn: P(Large | Male, Thur, Dinner) = ', ' ' * 10,  p_large_sklearn)\n",
    "print('Through manual calculation: P(Large | Male, Thur, Dinner) = ', p_large_manual, '\\n')"
   ]
  },
  {
   "cell_type": "markdown",
   "id": "7572dda8",
   "metadata": {},
   "source": [
    "**In your PDF, include a screenshot of your code above along with its output.**"
   ]
  },
  {
   "cell_type": "markdown",
   "id": "2c474a40",
   "metadata": {},
   "source": [
    "The point of this exercise was to show you that the Naive Bayes classifier we showed you in class is the same as one that is widely used in industry!"
   ]
  },
  {
   "cell_type": "markdown",
   "id": "4571b24c",
   "metadata": {},
   "source": [
    "### For fun!\n",
    "\n",
    "We've created a widget that will allow you to select a `'sex'`, `'day'`, and `'time'` from a dropdown menu and will dynamically show you the predicted tip category that `sklearn` makes for that combination of features. \n",
    "\n",
    "Run the cell below to play around with it!"
   ]
  },
  {
   "cell_type": "code",
   "execution_count": null,
   "id": "41722fb4",
   "metadata": {},
   "outputs": [],
   "source": [
    "from ipywidgets import widgets, interact\n",
    "import matplotlib.pyplot as plt\n",
    "from IPython.display import display, HTML\n",
    "\n",
    "def predict_from_features(sex, day, time):\n",
    "    sex_conv = sex_map[sex]\n",
    "    day_conv = day_map[day]\n",
    "    time_conv = time_map[time]\n",
    "    pred = model.predict([[sex_conv, day_conv, time_conv]])\n",
    "    statement = {0: 'Small', 1: 'Medium', 2: 'Large'}\n",
    "    output = f'''We predict that a <b>{sex}</b> customer coming to Dirty Birds\n",
    "    on <b>{day}</b> for <b>{time}</b> will leave a <b>{statement[pred[0]].lower()}-sized</b> tip.'''\n",
    "    display(HTML(output))\n",
    "    \n",
    "interact(predict_from_features,\n",
    "         sex=['Male', 'Female'],\n",
    "         day=['Thur', 'Fri', 'Sat', 'Sun'],\n",
    "         time=['Lunch', 'Dinner']);"
   ]
  },
  {
   "cell_type": "markdown",
   "id": "df319439",
   "metadata": {},
   "source": [
    "Play around with the widget! There's only one combination of features that predicts that a customer will leave a large-sized tip, see if you can find it!"
   ]
  },
  {
   "cell_type": "markdown",
   "id": "fcce7db2",
   "metadata": {},
   "source": [
    "Remember, you do not have to submit this notebook! Instead, include a screenshot of the relevant part of your code in Problem 2(d)."
   ]
  }
 ],
 "metadata": {
  "kernelspec": {
   "display_name": "Python 3 (ipykernel)",
   "language": "python",
   "name": "python3"
  },
  "language_info": {
   "codemirror_mode": {
    "name": "ipython",
    "version": 3
   },
   "file_extension": ".py",
   "mimetype": "text/x-python",
   "name": "python",
   "nbconvert_exporter": "python",
   "pygments_lexer": "ipython3",
   "version": "3.8.18"
  }
 },
 "nbformat": 4,
 "nbformat_minor": 5
}
