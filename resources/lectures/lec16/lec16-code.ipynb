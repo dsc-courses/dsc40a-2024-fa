{
 "cells": [
  {
   "cell_type": "markdown",
   "id": "f98b8655",
   "metadata": {},
   "source": [
    "# Lecture 16 Supplementary Notebook\n",
    "\n",
    "## DSC 40A, Fall 2024"
   ]
  },
  {
   "cell_type": "markdown",
   "id": "04088016",
   "metadata": {},
   "source": [
    "The following cell sets up the necessary imports – don't worry too much about it."
   ]
  },
  {
   "cell_type": "code",
   "execution_count": 12,
   "id": "425755e9",
   "metadata": {},
   "outputs": [],
   "source": [
    "import pandas as pd\n",
    "import numpy as np\n",
    "import matplotlib.pyplot as plt\n",
    "import plotly.express as px\n",
    "import plotly.graph_objects as go\n",
    "import plotly.io as pio\n",
    "import seaborn as sns\n",
    "\n",
    "from matplotlib_inline.backend_inline import set_matplotlib_formats\n",
    "set_matplotlib_formats(\"svg\")\n",
    "\n",
    "pd.options.plotting.backend = \"plotly\"\n",
    "\n",
    "# DSC 40A preferred styles\n",
    "pio.templates[\"dsc40a\"] = go.layout.Template(\n",
    "    layout=dict(\n",
    "        margin=dict(l=30, r=30, t=30, b=30),\n",
    "        autosize=True,\n",
    "        xaxis=dict(showgrid=True),\n",
    "        yaxis=dict(showgrid=True),\n",
    "        title=dict(x=0.5, xanchor=\"center\"),\n",
    "    )\n",
    ")\n",
    "pio.templates.default = \"simple_white+dsc40a\"\n",
    "\n",
    "from IPython.display import HTML\n",
    "from ipywidgets import interact, widgets, FloatSlider\n",
    "pio.renderers.default = 'png'"
   ]
  },
  {
   "cell_type": "markdown",
   "id": "1f86a693",
   "metadata": {},
   "source": [
    "## Gradient descent\n",
    "\n",
    "See the Lecture 15 notebook or [dsc40a.com/resources/lectures/lec15](https://dsc40a.com/resources/lectures/lec15) for animations.\n",
    "\n",
    "$$f(t) = 5t^4 - t^3 - 5t^2 + 2t - 9$$"
   ]
  },
  {
   "cell_type": "code",
   "execution_count": 13,
   "id": "fdf36668",
   "metadata": {},
   "outputs": [],
   "source": [
    "def f(t):\n",
    "    return 5 * (t**4) - (t**3) - 5 * (t**2) + 2 * t - 9\n",
    "\n",
    "def df(t):\n",
    "    return 20 * (t**3) - 3 * (t**2) - 10 * t + 2\n",
    "\n",
    "def create_tangent_line(t):\n",
    "    slope = df(t)\n",
    "    intercept = f(t) - slope * t\n",
    "    return lambda x: intercept + slope * x"
   ]
  },
  {
   "cell_type": "markdown",
   "id": "545e65cd",
   "metadata": {},
   "source": [
    "### Gradient descent update rule\n",
    "\n",
    "Let's start with an initial guess $t_0 = 0$ and a learning rate $\\alpha = 0.01$.\n",
    "\n",
    "$$t_{i + 1} = t_i - \\alpha \\frac{df}{dt}(t_i)$$"
   ]
  },
  {
   "cell_type": "code",
   "execution_count": 14,
   "id": "fb0e40c6",
   "metadata": {},
   "outputs": [],
   "source": [
    "def minimize_f(df, t0, alpha, verbose=True):\n",
    "    t = t0\n",
    "    \n",
    "    # Iterate until the derivative of f at t is less than 0.0001 in magnitude.\n",
    "    while np.abs(df(t)) >= 0.0001:\n",
    "        if verbose:\n",
    "            print(round(t, 4), round(f(t), 4))\n",
    "        t = t - alpha * df(t)\n",
    "    print('Best t:', t)"
   ]
  },
  {
   "cell_type": "code",
   "execution_count": 4,
   "id": "97e5eb63",
   "metadata": {},
   "outputs": [
    {
     "name": "stdout",
     "output_type": "stream",
     "text": [
      "0 -9\n",
      "-0.02 -9.042\n",
      "-0.042 -9.0927\n",
      "-0.0661 -9.1537\n",
      "-0.0925 -9.2267\n",
      "-0.1214 -9.3135\n",
      "-0.1527 -9.4158\n",
      "-0.1866 -9.5347\n",
      "-0.2229 -9.6708\n",
      "-0.2615 -9.8235\n",
      "-0.302 -9.9909\n",
      "-0.344 -10.1687\n",
      "-0.3867 -10.3513\n",
      "-0.4293 -10.5311\n",
      "-0.4709 -10.7001\n",
      "-0.5104 -10.8511\n",
      "-0.547 -10.9789\n",
      "-0.58 -11.0811\n",
      "-0.6089 -11.1586\n",
      "-0.6335 -11.2141\n",
      "-0.654 -11.2521\n",
      "-0.6706 -11.277\n",
      "-0.6839 -11.2927\n",
      "-0.6943 -11.3023\n",
      "-0.7023 -11.308\n",
      "-0.7085 -11.3113\n",
      "-0.7131 -11.3132\n",
      "-0.7166 -11.3143\n",
      "-0.7193 -11.3149\n",
      "-0.7213 -11.3153\n",
      "-0.7227 -11.3155\n",
      "-0.7238 -11.3156\n",
      "-0.7247 -11.3156\n",
      "-0.7253 -11.3157\n",
      "-0.7257 -11.3157\n",
      "-0.726 -11.3157\n",
      "-0.7263 -11.3157\n",
      "-0.7265 -11.3157\n",
      "-0.7266 -11.3157\n",
      "-0.7267 -11.3157\n",
      "-0.7268 -11.3157\n",
      "-0.7268 -11.3157\n",
      "-0.7269 -11.3157\n",
      "-0.7269 -11.3157\n",
      "-0.7269 -11.3157\n",
      "-0.7269 -11.3157\n",
      "-0.727 -11.3157\n",
      "-0.727 -11.3157\n",
      "-0.727 -11.3157\n",
      "-0.727 -11.3157\n",
      "-0.727 -11.3157\n",
      "-0.727 -11.3157\n",
      "-0.727 -11.3157\n",
      "-0.727 -11.3157\n",
      "Best t: -0.7269816686876617\n"
     ]
    }
   ],
   "source": [
    "minimize_f(df, t0=0, alpha=0.01)"
   ]
  },
  {
   "cell_type": "markdown",
   "id": "37c36b10",
   "metadata": {},
   "source": [
    "What if we start with a different initial guess?"
   ]
  },
  {
   "cell_type": "code",
   "execution_count": null,
   "id": "0a73973c",
   "metadata": {},
   "outputs": [],
   "source": [
    "minimize_f(df, t0=1.1, alpha=0.01)"
   ]
  },
  {
   "cell_type": "markdown",
   "id": "85baed12",
   "metadata": {},
   "source": [
    "What if we use a different learning rate?"
   ]
  },
  {
   "cell_type": "code",
   "execution_count": null,
   "id": "56ee175b",
   "metadata": {},
   "outputs": [],
   "source": [
    "minimize_f(t0=0, alpha=0.1)"
   ]
  },
  {
   "cell_type": "markdown",
   "id": "cc2227ac",
   "metadata": {},
   "source": [
    "Some learning rates are so large that the values of $t$ explode towards infinity! Watch what happens when we use a learning rate of 1:"
   ]
  },
  {
   "cell_type": "code",
   "execution_count": null,
   "id": "238d65fc",
   "metadata": {},
   "outputs": [],
   "source": [
    "minimize_f(df, t0=0, alpha=1)"
   ]
  },
  {
   "cell_type": "markdown",
   "id": "aed0af82",
   "metadata": {},
   "source": [
    "## Convexity"
   ]
  },
  {
   "cell_type": "code",
   "execution_count": 15,
   "id": "df02a3d0",
   "metadata": {},
   "outputs": [],
   "source": [
    "def convexity_visual(a, b, t):\n",
    "    ts = np.linspace(-20, 20, 1000)\n",
    "\n",
    "    f = lambda x: x**3 - 3*x**2 + 4*x - 1\n",
    "\n",
    "    fig = px.line(x=ts, y=f(ts)).update_traces(line=dict(width=8))\n",
    "    fig.update_layout(xaxis_title='$t$', \n",
    "                      yaxis_title='$f(t)$', \n",
    "                      width=800, height=600)\n",
    "\n",
    "    fig.add_trace(go.Scatter(x=[a, b], y=[f(a), f(b)])).update_traces(line=dict(width=8))\n",
    "    fig.add_trace(go.Scatter(x=[(1-t) * a + t * b], y=[f((1-t) * a + t * b)], mode='markers')).update_traces(marker=dict(size=25))\n",
    "    fig.add_trace(go.Scatter(x=[(1-t) * a + t * b], y=[(1-t) * f(a) + t * f(b)], mode='markers')).update_traces(marker=dict(size=25))\n",
    "    fig.update_layout(showlegend=False, title=f't={t}')\n",
    "    return fig"
   ]
  },
  {
   "cell_type": "code",
   "execution_count": 16,
   "id": "3e5a001b",
   "metadata": {},
   "outputs": [
    {
     "data": {
      "application/vnd.jupyter.widget-view+json": {
       "model_id": "24ea41cbfd33406b919921ccb8496e55",
       "version_major": 2,
       "version_minor": 0
      },
      "text/plain": [
       "interactive(children=(FloatSlider(value=-8.0, description='a', max=5.0, min=-20.0), FloatSlider(value=12.0, de…"
      ]
     },
     "metadata": {},
     "output_type": "display_data"
    },
    {
     "data": {
      "text/plain": [
       "<function __main__.convexity_visual(a, b, t)>"
      ]
     },
     "execution_count": 16,
     "metadata": {},
     "output_type": "execute_result"
    }
   ],
   "source": [
    "interact(convexity_visual, a=(-20, 5, 0.1), b=(5, 20, 0.1), t=FloatSlider(min=0, max=1, step=0.01, value=0.5))"
   ]
  },
  {
   "cell_type": "markdown",
   "id": "305a7142",
   "metadata": {},
   "source": [
    "## More examples\n",
    "\n",
    "### Example: Huber loss\n",
    "\n",
    "For the constant model, $H(x) = h$:\n",
    "\n",
    "$$L_\\text{huber}(y_i, h) = \\begin{cases} \\frac{1}{2} (y_i - h)^2 & \\text{if } | y_i - h| \\leq \\delta \\\\ \\delta \\cdot (| y_i - h | - \\frac{1}{2} \\delta) & \\text{otherwise} \\end{cases}$$"
   ]
  },
  {
   "cell_type": "code",
   "execution_count": 17,
   "id": "0c546d08",
   "metadata": {},
   "outputs": [],
   "source": [
    "y = np.array([72])"
   ]
  },
  {
   "cell_type": "code",
   "execution_count": 18,
   "id": "4a766db5",
   "metadata": {},
   "outputs": [],
   "source": [
    "def R(h, delta):\n",
    "    out = 0\n",
    "    for i in range(len(y)):\n",
    "        if np.abs(y[i] - h) <= delta:\n",
    "            out += (1 / 2) * (y[i] - h) ** 2\n",
    "        else:\n",
    "            out += delta * (np.abs(y[i] - h) - (1 / 2) * delta)\n",
    "    return out / len(y)"
   ]
  },
  {
   "cell_type": "code",
   "execution_count": 19,
   "id": "9d2da6da",
   "metadata": {},
   "outputs": [],
   "source": [
    "h = np.linspace(np.min(y) - 10, np.max(y) + 10, 10000)\n",
    "Rh = [R(hi, delta=1) for hi in h]"
   ]
  },
  {
   "cell_type": "markdown",
   "id": "e90df78e",
   "metadata": {},
   "source": [
    "For a single point:"
   ]
  },
  {
   "cell_type": "code",
   "execution_count": 20,
   "id": "0e8521a9",
   "metadata": {},
   "outputs": [
    {
     "data": {
      "image/png": "[encoded data removed]"
     },
     "metadata": {},
     "output_type": "display_data"
    }
   ],
   "source": [
    "px.line(x=h, y=Rh).update_traces(line_color='purple', line_width=4)"
   ]
  },
  {
   "cell_type": "code",
   "execution_count": 29,
   "id": "05bbaccf",
   "metadata": {},
   "outputs": [],
   "source": [
    "def dR(h, delta):\n",
    "    out = 0\n",
    "    for i in range(len(y)):\n",
    "        if np.abs(y[i] - h) <= delta:\n",
    "            out += -(y[i] - h)\n",
    "        else:\n",
    "            out += -delta * (1 if (y[i] - h > 0) else -1)\n",
    "    return out / len(y)"
   ]
  },
  {
   "cell_type": "markdown",
   "id": "82564817",
   "metadata": {},
   "source": [
    "For a larger dataset:"
   ]
  },
  {
   "cell_type": "code",
   "execution_count": 30,
   "id": "7060c153",
   "metadata": {},
   "outputs": [],
   "source": [
    "y = np.array([72, 90, 61, 85, 92])"
   ]
  },
  {
   "cell_type": "code",
   "execution_count": 31,
   "id": "1a77adaa",
   "metadata": {},
   "outputs": [],
   "source": [
    "h = np.linspace(np.min(y) - 10, np.max(y) + 15, 10000)\n",
    "Rh = [R(hi, delta=1) for hi in h]"
   ]
  },
  {
   "cell_type": "code",
   "execution_count": 32,
   "id": "a12936b6",
   "metadata": {},
   "outputs": [
    {
     "data": {
      "image/png": "[encoded data removed]"
     },
     "metadata": {},
     "output_type": "display_data"
    }
   ],
   "source": [
    "px.line(x=h, y=Rh).update_traces(line_color='purple', line_width=4)"
   ]
  },
  {
   "cell_type": "markdown",
   "id": "f5743415",
   "metadata": {},
   "source": [
    "$$L_\\text{huber}(y_i, h) = \\begin{cases} \\frac{1}{2} (y_i - h)^2 & \\text{if } | y_i - h| \\leq \\delta \\\\ \\delta \\cdot (| y_i - h | - \\frac{1}{2} \\delta) & \\text{otherwise} \\end{cases}$$\n",
    "\n",
    "$$\\implies \\frac{\\partial L}{\\partial h}(h) = \\begin{cases} -(y_i - h)  & \\text{if } | y_i - h| \\leq \\delta \\\\ -\\delta \\cdot \\text{sign}(y_i - h) & \\text{otherwise} \\end{cases}$$\n",
    "\n",
    "$$\\implies \\frac{dR_\\text{huber}}{dh}(h) = \\frac{1}{n} \\sum_{i = 1}^n \\begin{cases} -(y_i - h)  & \\text{if } | y_i - h| \\leq \\delta \\\\ -\\delta \\cdot \\text{sign}(y_i - h) & \\text{otherwise} \\end{cases}$$\n"
   ]
  },
  {
   "cell_type": "markdown",
   "id": "d11c3dc1",
   "metadata": {},
   "source": [
    "Now, let's use gradient descent to minimize. Let's use an initial guess of $h_0 = 25$ and $\\alpha = 10$:"
   ]
  },
  {
   "cell_type": "code",
   "execution_count": 34,
   "id": "18615cc1",
   "metadata": {},
   "outputs": [
    {
     "name": "stdout",
     "output_type": "stream",
     "text": [
      "0.2\n",
      "80 -0.2\n",
      "80.2 -0.2\n",
      "80.4 -0.2\n",
      "80.6 -0.2\n",
      "80.8 -0.2\n",
      "81.0 -0.2\n",
      "81.2 -0.2\n",
      "81.4 -0.2\n",
      "81.6 -0.2\n",
      "81.8 -0.2\n",
      "82.0 -0.2\n",
      "82.2 -0.2\n",
      "82.4 -0.2\n",
      "82.6 -0.2\n",
      "82.8 -0.2\n",
      "83.0 -0.2\n",
      "83.2 -0.2\n",
      "83.4 -0.2\n",
      "83.6 -0.2\n",
      "83.8 -0.2\n",
      "84.0 -0.2\n",
      "84.2 -0.16\n",
      "84.36 -0.128\n",
      "84.488 -0.1024\n",
      "84.5904 -0.0819\n",
      "84.6723 -0.0655\n",
      "84.7379 -0.0524\n",
      "84.7903 -0.0419\n",
      "84.8322 -0.0336\n",
      "84.8658 -0.0268\n",
      "84.8926 -0.0215\n",
      "84.9141 -0.0172\n",
      "84.9313 -0.0137\n",
      "84.945 -0.011\n",
      "84.956 -0.0088\n",
      "84.9648 -0.007\n",
      "84.9719 -0.0056\n",
      "84.9775 -0.0045\n",
      "84.982 -0.0036\n",
      "84.9856 -0.0029\n",
      "84.9885 -0.0023\n",
      "84.9908 -0.0018\n",
      "84.9926 -0.0015\n",
      "84.9941 -0.0012\n"
     ]
    }
   ],
   "source": [
    "h = 80\n",
    "alpha = 1\n",
    "\n",
    "print(np.abs(dR(h, delta=1)))\n",
    "while np.abs(dR(h, delta=1)) >= 0.001:\n",
    "    print(round(h, 4), round(dR(h, delta=1), 4))\n",
    "    h = h - alpha * dR(h, delta=1)"
   ]
  },
  {
   "cell_type": "code",
   "execution_count": null,
   "id": "9668f2a3-79b0-4923-a903-e546523d8b9f",
   "metadata": {},
   "outputs": [],
   "source": []
  }
 ],
 "metadata": {
  "kernelspec": {
   "display_name": "Python 3 (ipykernel)",
   "language": "python",
   "name": "python3"
  },
  "language_info": {
   "codemirror_mode": {
    "name": "ipython",
    "version": 3
   },
   "file_extension": ".py",
   "mimetype": "text/x-python",
   "name": "python",
   "nbconvert_exporter": "python",
   "pygments_lexer": "ipython3",
   "version": "3.11.9"
  }
 },
 "nbformat": 4,
 "nbformat_minor": 5
}
