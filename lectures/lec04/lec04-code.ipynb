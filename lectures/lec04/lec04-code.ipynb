{
 "cells": [
  {
   "cell_type": "markdown",
   "id": "56ae71bb",
   "metadata": {},
   "source": [
    "# Lecture 4 Supplementary Notebook\n",
    "\n",
    "## DSC 40A, Summer 2024"
   ]
  },
  {
   "cell_type": "markdown",
   "id": "261b674b",
   "metadata": {},
   "source": [
    "The following cell sets up the necessary imports – don't worry too much about it."
   ]
  },
  {
   "cell_type": "code",
   "execution_count": null,
   "id": "63be39b8",
   "metadata": {},
   "outputs": [],
   "source": [
    "import pandas as pd\n",
    "import numpy as np\n",
    "import matplotlib.pyplot as plt\n",
    "import plotly.express as px\n",
    "import plotly.graph_objects as go\n",
    "import plotly.io as pio\n",
    "import seaborn as sns\n",
    "\n",
    "from matplotlib_inline.backend_inline import set_matplotlib_formats\n",
    "set_matplotlib_formats(\"svg\")\n",
    "\n",
    "pd.options.plotting.backend = \"plotly\"\n",
    "\n",
    "# DSC 80 preferred styles\n",
    "pio.templates[\"dsc80\"] = go.layout.Template(\n",
    "    layout=dict(\n",
    "        margin=dict(l=30, r=30, t=30, b=30),\n",
    "        autosize=True,\n",
    "        xaxis=dict(showgrid=True),\n",
    "        yaxis=dict(showgrid=True),\n",
    "        title=dict(x=0.5, xanchor=\"center\"),\n",
    "    )\n",
    ")\n",
    "pio.templates.default = \"simple_white+dsc80\""
   ]
  },
  {
   "cell_type": "markdown",
   "id": "3c1fdde5",
   "metadata": {},
   "source": [
    "Let's load in the commute times dataset as a `pandas` DataFrame."
   ]
  },
  {
   "cell_type": "code",
   "execution_count": null,
   "id": "af705bc0",
   "metadata": {},
   "outputs": [],
   "source": [
    "df = pd.read_csv('commute-times.csv')\n",
    "df.head()"
   ]
  },
  {
   "cell_type": "markdown",
   "id": "17e35765",
   "metadata": {},
   "source": [
    "There are many columns in here, but the only ones we're interested in for now are `'departure_hour'` and `'minutes'`."
   ]
  },
  {
   "cell_type": "code",
   "execution_count": null,
   "id": "646535cb",
   "metadata": {},
   "outputs": [],
   "source": [
    "df[['departure_hour', 'minutes']]"
   ]
  },
  {
   "cell_type": "code",
   "execution_count": null,
   "id": "a7d069ac",
   "metadata": {},
   "outputs": [],
   "source": [
    "pio.renderers.default = 'plotly_mimetype+notebook' # If the plot doesn't load for you, run this first."
   ]
  },
  {
   "cell_type": "code",
   "execution_count": null,
   "id": "a08d036c",
   "metadata": {},
   "outputs": [],
   "source": [
    "fig = px.scatter(df,\n",
    "           x='departure_hour',\n",
    "           y='minutes',\n",
    "           size=np.ones(len(df)) * 50,\n",
    "           size_max=8)\n",
    "fig.update_xaxes(title='Home Departure Time (AM)')\n",
    "fig.update_yaxes(title='Minutes to Work')\n",
    "fig.update_layout(title='Commuting Time vs. Home Departure Time')\n",
    "fig.update_layout(width=700)"
   ]
  },
  {
   "cell_type": "markdown",
   "id": "78724025",
   "metadata": {},
   "source": [
    "Let's implement the formulas for the best slope, $w_1^*$, and intercept, $w_0^*$, we just found."
   ]
  },
  {
   "cell_type": "code",
   "execution_count": null,
   "id": "04ba8d01",
   "metadata": {},
   "outputs": [],
   "source": [
    "def find_best_slope(x, y):\n",
    "    # Assume x and y are two Series.\n",
    "    numerator = ((x - np.mean(x)) * (y - np.mean(y))).sum()\n",
    "    denominator = ((x - np.mean(x)) ** 2).sum()\n",
    "    return numerator / denominator\n",
    "\n",
    "def find_best_intercept(x, y):\n",
    "    return y.mean() - find_best_slope(x, y) * x.mean()"
   ]
  },
  {
   "cell_type": "code",
   "execution_count": null,
   "id": "e6474456",
   "metadata": {},
   "outputs": [],
   "source": [
    "best_slope = find_best_slope(df['departure_hour'], df['minutes'])\n",
    "best_slope"
   ]
  },
  {
   "cell_type": "code",
   "execution_count": null,
   "id": "31986319",
   "metadata": {},
   "outputs": [],
   "source": [
    "best_intercept = find_best_intercept(df['departure_hour'], df['minutes'])\n",
    "best_intercept"
   ]
  },
  {
   "cell_type": "markdown",
   "id": "fdef805a",
   "metadata": {},
   "source": [
    "The results above tell us that the linear hypothesis function with the lowest mean squared error on our dataset is:\n",
    "\n",
    "$$\\text{predicted commute time (minutes)} = 142.45 - 8.19 \\cdot \\text{departure hour}$$"
   ]
  },
  {
   "cell_type": "markdown",
   "id": "87f30cf3",
   "metadata": {},
   "source": [
    "We can use it to make predictions:"
   ]
  },
  {
   "cell_type": "code",
   "execution_count": null,
   "id": "70ae4f69",
   "metadata": {},
   "outputs": [],
   "source": [
    "def predict_commute(x_new):\n",
    "    return best_intercept + best_slope * x_new"
   ]
  },
  {
   "cell_type": "markdown",
   "id": "e6ce6fc5",
   "metadata": {},
   "source": [
    "What if I leave at 8AM? 10:45AM?"
   ]
  },
  {
   "cell_type": "code",
   "execution_count": null,
   "id": "a293a52c",
   "metadata": {},
   "outputs": [],
   "source": [
    "predict_commute(8)"
   ]
  },
  {
   "cell_type": "code",
   "execution_count": null,
   "id": "85b04f9e",
   "metadata": {},
   "outputs": [],
   "source": [
    "predict_commute(10 + 45 / 60)"
   ]
  },
  {
   "cell_type": "markdown",
   "id": "d1d0fd96",
   "metadata": {},
   "source": [
    "What do all of our predictions look like?"
   ]
  },
  {
   "cell_type": "code",
   "execution_count": null,
   "id": "8276ee24",
   "metadata": {
    "scrolled": false
   },
   "outputs": [],
   "source": [
    "hline = px.line(x=[5.5, 11.5], y=[predict_commute(5.5), predict_commute(11.5)]).update_traces(line={'color': 'red', 'width': 4})\n",
    "fline1 = go.Figure(fig.data + hline.data)\n",
    "fline1.update_xaxes(title='Home Departure Time (AM)')\n",
    "fline1.update_yaxes(title='Minutes to School')\n",
    "fline1.update_layout(title='<span style=\"color:red\">Predicted Commute Time</span> = 142.25 - 8.19 * Departure Hour')\n",
    "fline1.update_layout(width=700, margin={'t': 60})"
   ]
  }
 ],
 "metadata": {
  "kernelspec": {
   "display_name": "Python 3 (ipykernel)",
   "language": "python",
   "name": "python3"
  },
  "language_info": {
   "codemirror_mode": {
    "name": "ipython",
    "version": 3
   },
   "file_extension": ".py",
   "mimetype": "text/x-python",
   "name": "python",
   "nbconvert_exporter": "python",
   "pygments_lexer": "ipython3",
   "version": "3.11.5"
  }
 },
 "nbformat": 4,
 "nbformat_minor": 5
}
