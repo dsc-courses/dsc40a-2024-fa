{
 "cells": [
  {
   "cell_type": "markdown",
   "id": "f98b8655",
   "metadata": {},
   "source": [
    "# Lecture 8 Supplementary Notebook\n",
    "\n",
    "## DSC 40A, Summer 2024"
   ]
  },
  {
   "cell_type": "markdown",
   "id": "04088016",
   "metadata": {},
   "source": [
    "The following cell sets up the necessary imports – don't worry too much about it."
   ]
  },
  {
   "cell_type": "code",
   "execution_count": null,
   "id": "425755e9",
   "metadata": {},
   "outputs": [],
   "source": [
    "import pandas as pd\n",
    "import numpy as np\n",
    "import matplotlib.pyplot as plt\n",
    "import plotly.express as px\n",
    "import plotly.graph_objects as go\n",
    "import plotly.io as pio\n",
    "import seaborn as sns\n",
    "\n",
    "from matplotlib_inline.backend_inline import set_matplotlib_formats\n",
    "set_matplotlib_formats(\"svg\")\n",
    "\n",
    "pd.options.plotting.backend = \"plotly\"\n",
    "\n",
    "# DSC 80 preferred styles\n",
    "pio.templates[\"dsc80\"] = go.layout.Template(\n",
    "    layout=dict(\n",
    "        margin=dict(l=30, r=30, t=30, b=30),\n",
    "        autosize=True,\n",
    "        xaxis=dict(showgrid=True),\n",
    "        yaxis=dict(showgrid=True),\n",
    "        title=dict(x=0.5, xanchor=\"center\"),\n",
    "    )\n",
    ")\n",
    "pio.templates.default = \"simple_white+dsc80\"\n",
    "\n",
    "from IPython.display import HTML"
   ]
  },
  {
   "cell_type": "markdown",
   "id": "45c5a815",
   "metadata": {},
   "source": [
    "Let's load in the commute times dataset as a `pandas` DataFrame."
   ]
  },
  {
   "cell_type": "code",
   "execution_count": null,
   "id": "cc279ff4",
   "metadata": {},
   "outputs": [],
   "source": [
    "df = pd.read_csv('data/commute-times.csv')\n",
    "df.head()"
   ]
  },
  {
   "cell_type": "markdown",
   "id": "b49d9805",
   "metadata": {},
   "source": [
    "There are many columns in here, but the only ones we're interested in for now are `'departure_hour'` and `'minutes'`."
   ]
  },
  {
   "cell_type": "code",
   "execution_count": null,
   "id": "4ac83624",
   "metadata": {},
   "outputs": [],
   "source": [
    "df[['departure_hour', 'minutes']]"
   ]
  },
  {
   "cell_type": "code",
   "execution_count": null,
   "id": "ea53f568",
   "metadata": {},
   "outputs": [],
   "source": [
    "pio.renderers.default = 'plotly_mimetype+notebook' # If the plot doesn't load for you, run this first."
   ]
  },
  {
   "cell_type": "code",
   "execution_count": null,
   "id": "9365f3b1",
   "metadata": {},
   "outputs": [],
   "source": [
    "fig = px.scatter(df,\n",
    "           x='departure_hour',\n",
    "           y='minutes',\n",
    "           size=np.ones(len(df)) * 50,\n",
    "           size_max=8)\n",
    "fig.update_xaxes(title='Home Departure Time (AM)')\n",
    "fig.update_yaxes(title='Minutes to School')\n",
    "fig.update_layout(title='Commuting Time vs. Home Departure Time')\n",
    "fig.update_layout(width=700)"
   ]
  },
  {
   "cell_type": "markdown",
   "id": "91baccce",
   "metadata": {},
   "source": [
    "## Finding the Regression Line, Using the Old Formulas\n",
    "\n",
    "Recall, the formulas for the optimal intercept ($w_0^*$) and slope ($w_1^*$) are\n",
    "\n",
    "$$w_1^* = r \\frac{\\sigma_y}{\\sigma_x}$$\n",
    "\n",
    "$$w_0^* = \\bar{y} - w_1^* \\bar{x}$$"
   ]
  },
  {
   "cell_type": "code",
   "execution_count": null,
   "id": "6fad9002",
   "metadata": {},
   "outputs": [],
   "source": [
    "def slope(x, y):\n",
    "    return np.corrcoef(x, y)[0, 1] * np.std(y) / np.std(x)"
   ]
  },
  {
   "cell_type": "code",
   "execution_count": null,
   "id": "d49f988f",
   "metadata": {},
   "outputs": [],
   "source": [
    "def intercept(x, y):\n",
    "    return np.mean(y) - slope(x, y) * np.mean(x)"
   ]
  },
  {
   "cell_type": "code",
   "execution_count": null,
   "id": "94257117",
   "metadata": {},
   "outputs": [],
   "source": [
    "w0_star = intercept(df['departure_hour'], df['minutes'])\n",
    "w1_star = slope(df['departure_hour'], df['minutes'])\n",
    "\n",
    "# Just fancy printing – ignore these next two lines.\n",
    "rule_string = ('$$\\\\text{Predicted Commute Time (in Minutes)} = ' + \n",
    "               f'{round(w0_star, 2)} + {round(w1_star, 2)}' + \n",
    "               '\\cdot \\\\left( \\\\text{Departure Hour} \\\\right)$$')\n",
    "display(HTML(f'<h4>The best linear predictor for this dataset is</h4><br><center>{rule_string}</center>'))"
   ]
  },
  {
   "cell_type": "code",
   "execution_count": null,
   "id": "ed55708d",
   "metadata": {},
   "outputs": [],
   "source": [
    "hline = px.line(x=[5.5, 11.5], y=[97.405, 48.265]).update_traces(line={'color': 'red', 'width': 4})\n",
    "fline1 = go.Figure(fig.data + hline.data)\n",
    "fline1.update_xaxes(title='Home Departure Time (AM)')\n",
    "fline1.update_yaxes(title='Minutes to School')\n",
    "fline1.update_layout(title='<span style=\"color:red\">Predicted Commute Time</span> = 142.45 - 8.19 * Departure Hour')\n",
    "fline1.update_layout(width=700, margin={'t': 60})"
   ]
  },
  {
   "cell_type": "markdown",
   "id": "734ab919",
   "metadata": {},
   "source": [
    "Now that we have $w_0^*$ and $w_1^*$, we can use them to make predictions."
   ]
  },
  {
   "cell_type": "code",
   "execution_count": null,
   "id": "cac72738",
   "metadata": {},
   "outputs": [],
   "source": [
    "# The predicted commute time if I leave at 8:30AM.\n",
    "w0_star + w1_star * 8.5"
   ]
  },
  {
   "cell_type": "markdown",
   "id": "88115698",
   "metadata": {},
   "source": [
    "## Finding the Regression Line, Using the Normal Equations\n",
    "\n",
    "Using our linear algebraic formulation, the optimal intercept and slope are given by the vector $\\vec{w}^*$, where:\n",
    "\n",
    "$$\\vec{w}^* = ({X^TX})^{-1} X^T\\vec{y}$$\n",
    "\n",
    "Here:\n",
    "- $X$ is a $n \\times 2$ matrix, called the **design matrix**, defined as:\n",
    "\n",
    "$${ X} = \\begin{bmatrix} { 1} & { x_1} \\\\ { 1} & { x_2} \\\\ \\vdots & \\vdots \\\\ { 1} & { x_n} \\end{bmatrix}$$\n",
    "\n",
    "- $\\vec{y}$ is a $n$-dimensional vector, called the **observation vector**, defined as:\n",
    "\n",
    "$$\\vec{y} = \\begin{bmatrix} y_1 \\\\ y_2 \\\\ \\vdots \\\\ y_n \\end{bmatrix}$$\n",
    "\n",
    "Let's construct $X$ and $y$ in code.\n",
    "\n",
    "First, the design matrix."
   ]
  },
  {
   "cell_type": "code",
   "execution_count": null,
   "id": "8a575132",
   "metadata": {},
   "outputs": [],
   "source": [
    "# Create a new DataFrame by taking the 'departure_hour' column from df.\n",
    "X = df[['departure_hour']].copy()\n",
    "X"
   ]
  },
  {
   "cell_type": "code",
   "execution_count": null,
   "id": "780164e9",
   "metadata": {},
   "outputs": [],
   "source": [
    "# Add a column of all 1s to X.\n",
    "X['1'] = 1\n",
    "X"
   ]
  },
  {
   "cell_type": "code",
   "execution_count": null,
   "id": "786583d1",
   "metadata": {},
   "outputs": [],
   "source": [
    "# Change the order of the columns and convert to an array.\n",
    "X = X[['1', 'departure_hour']].to_numpy()\n",
    "X"
   ]
  },
  {
   "cell_type": "markdown",
   "id": "62a0a4ae",
   "metadata": {},
   "source": [
    "$\\vec{y}$ is already created for us: it's just the `'minutes'` column in `df`."
   ]
  },
  {
   "cell_type": "code",
   "execution_count": null,
   "id": "b00f3fe5",
   "metadata": {},
   "outputs": [],
   "source": [
    "y = df['minutes'].to_numpy()\n",
    "y"
   ]
  },
  {
   "cell_type": "markdown",
   "id": "a7a43186",
   "metadata": {},
   "source": [
    "Now, let's implement:\n",
    "\n",
    "$$\\vec{w}^* = ({X^TX})^{-1} X^T\\vec{y}$$"
   ]
  },
  {
   "cell_type": "code",
   "execution_count": null,
   "id": "377070ff",
   "metadata": {},
   "outputs": [],
   "source": [
    "# The @ symbol performs matrix multiplication!\n",
    "w_star_linalg = np.linalg.inv(X.T @ X) @ X.T @ y\n",
    "w_star_linalg"
   ]
  },
  {
   "cell_type": "markdown",
   "id": "167d39eb",
   "metadata": {},
   "source": [
    "These numbers look familiar!"
   ]
  },
  {
   "cell_type": "code",
   "execution_count": null,
   "id": "c8122870",
   "metadata": {},
   "outputs": [],
   "source": [
    "# Old formulas.\n",
    "w0_star, w1_star"
   ]
  },
  {
   "cell_type": "markdown",
   "id": "06f25b92",
   "metadata": {},
   "source": [
    "Indeed, they're exactly the same as the `w0_star` and `w1_star` we found using our old formulas."
   ]
  },
  {
   "cell_type": "markdown",
   "id": "7a63536d",
   "metadata": {},
   "source": [
    "## Making Predictions\n",
    "\n",
    "We know how to make predictions with the old formulas:"
   ]
  },
  {
   "cell_type": "code",
   "execution_count": null,
   "id": "495e693e",
   "metadata": {},
   "outputs": [],
   "source": [
    "# The predicted commute time if I leave at 8:30AM.\n",
    "w0_star + w1_star * 8.5"
   ]
  },
  {
   "cell_type": "markdown",
   "id": "c417ed56",
   "metadata": {},
   "source": [
    "How do we make predictions with the new formulas?\n",
    "\n",
    "To find the predicted commute time for every departure hour in our dataset, we can multiply $X$ by the optimal parameter vector, $\\vec{w}^*$.\n",
    "\n",
    "$$\\vec{h}^* = X \\vec{w}^*$$\n",
    "\n",
    "$\\vec{h}^*$ above is the optimal **hypothesis vector**."
   ]
  },
  {
   "cell_type": "code",
   "execution_count": null,
   "id": "04314334",
   "metadata": {},
   "outputs": [],
   "source": [
    "all_preds = X @ w_star_linalg\n",
    "all_preds"
   ]
  },
  {
   "cell_type": "markdown",
   "id": "3b56ced9",
   "metadata": {},
   "source": [
    "To make a prediction for a single data point, we must take the **dot product** of the optimal parameter vector, $\\vec{w}^*$ (`w_star_linalg`) with a vector of the form $\\begin{bmatrix} 1 & x_\\text{new} \\end{bmatrix}^T$, since this is what the rows of $X$ look like."
   ]
  },
  {
   "cell_type": "code",
   "execution_count": null,
   "id": "dae5b683",
   "metadata": {},
   "outputs": [],
   "source": [
    "# Also the predicted commute time if I leave at 8:30AM.\n",
    "np.dot(w_star_linalg, np.array([1, 8.5]))"
   ]
  },
  {
   "cell_type": "markdown",
   "id": "be733c71",
   "metadata": {},
   "source": [
    "This gives us the same prediction as before!"
   ]
  },
  {
   "cell_type": "markdown",
   "id": "eebbd8ad",
   "metadata": {},
   "source": [
    "## Multiple Linear Regression"
   ]
  },
  {
   "cell_type": "code",
   "execution_count": null,
   "id": "7060bec2",
   "metadata": {},
   "outputs": [],
   "source": [
    "df['day_of_month'] = df['date'].str.extract(r'/(\\d+)/').astype(int)"
   ]
  },
  {
   "cell_type": "code",
   "execution_count": null,
   "id": "9ba7dc9c",
   "metadata": {},
   "outputs": [],
   "source": [
    "df[['departure_hour', 'day_of_month', 'minutes']]"
   ]
  },
  {
   "cell_type": "markdown",
   "id": "5b9026d2",
   "metadata": {},
   "source": [
    "Let's create our new design matrix, $X$:\n",
    "\n",
    "$$X = \\begin{bmatrix}\n",
    "\t\t1      & \\text{departure hour}_1 & \\text{day}_1   \\\\\n",
    "\t\t1      & \\text{departure hour}_2 & \\text{day}_2    \\\\\n",
    "\t\t... & ... & ... \\\\\n",
    "\t\t1      & \\text{departure hour}_n & \\text{day}_n\n",
    "\t\\end{bmatrix}$$"
   ]
  },
  {
   "cell_type": "code",
   "execution_count": null,
   "id": "4839c2ad",
   "metadata": {},
   "outputs": [],
   "source": [
    "X = df[['departure_hour', 'day_of_month']].copy()\n",
    "X['1'] = 1\n",
    "X = X[['1', 'departure_hour', 'day_of_month']].to_numpy()\n",
    "X"
   ]
  },
  {
   "cell_type": "code",
   "execution_count": null,
   "id": "a4a90037",
   "metadata": {},
   "outputs": [],
   "source": [
    "w_star_multiple = np.linalg.inv(X.T @ X) @ X.T @ y\n",
    "w_star_multiple"
   ]
  },
  {
   "cell_type": "markdown",
   "id": "94c782b4",
   "metadata": {},
   "source": [
    "What do our predictions look like, for each row of the dataset?"
   ]
  },
  {
   "cell_type": "code",
   "execution_count": null,
   "id": "711d78c6",
   "metadata": {},
   "outputs": [],
   "source": [
    "XX, YY = np.mgrid[5:14:1, 0:31:1]\n",
    "Z = w_star_multiple[0] + w_star_multiple[1] * XX + w_star_multiple[2] * YY\n",
    "plane = go.Surface(x=XX, y=YY, z=Z, colorscale='Reds')\n",
    "\n",
    "fig = go.Figure(data=[plane])\n",
    "fig.add_trace(go.Scatter3d(x=df['departure_hour'], \n",
    "                           y=df['day_of_month'], \n",
    "                           z=df['minutes'], mode='markers', marker = {'color': '#656DF1'}))\n",
    "\n",
    "fig.update_layout(scene=dict(xaxis_title='Departure Hour',\n",
    "                             yaxis_title='Day of Month',\n",
    "                             zaxis_title='Commute Time'),\n",
    "                  title='Commute Time vs. Departure Hour and Day of Month',\n",
    "                  width=1000, height=500)"
   ]
  },
  {
   "cell_type": "markdown",
   "id": "d42aa951",
   "metadata": {},
   "source": [
    "How do we make predictions for new datapoints?"
   ]
  },
  {
   "cell_type": "code",
   "execution_count": null,
   "id": "a5612ad0",
   "metadata": {},
   "outputs": [],
   "source": [
    "# The predicted commute time if I leave at 8:30AM on the 15th of the month.\n",
    "np.dot(w_star_multiple, np.array([1, 8.5, 15]))"
   ]
  },
  {
   "cell_type": "code",
   "execution_count": null,
   "id": "3a76c56f",
   "metadata": {},
   "outputs": [],
   "source": [
    "# The predicted commute time if I leave at 8:30AM on the 30th of the month.\n",
    "np.dot(w_star_multiple, np.array([1, 8.5, 30]))"
   ]
  }
 ],
 "metadata": {
  "kernelspec": {
   "display_name": "Python 3 (ipykernel)",
   "language": "python",
   "name": "python3"
  },
  "language_info": {
   "codemirror_mode": {
    "name": "ipython",
    "version": 3
   },
   "file_extension": ".py",
   "mimetype": "text/x-python",
   "name": "python",
   "nbconvert_exporter": "python",
   "pygments_lexer": "ipython3",
   "version": "3.11.5"
  }
 },
 "nbformat": 4,
 "nbformat_minor": 5
}
