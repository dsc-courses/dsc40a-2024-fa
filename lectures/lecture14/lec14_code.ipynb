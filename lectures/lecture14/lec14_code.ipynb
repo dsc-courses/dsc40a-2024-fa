{
  "cells": [
    {
      "cell_type": "markdown",
      "id": "f98b8655",
      "metadata": {
        "id": "f98b8655"
      },
      "source": [
        "# Lecture 14 Supplementary Notebook\n",
        "\n",
        "## DSC 40A, Fall 2024"
      ]
    },
    {
      "cell_type": "markdown",
      "id": "04088016",
      "metadata": {
        "id": "04088016"
      },
      "source": [
        "The following cell sets up the necessary imports – don't worry too much about it."
      ]
    },
    {
      "cell_type": "code",
      "execution_count": null,
      "id": "425755e9",
      "metadata": {
        "id": "425755e9"
      },
      "outputs": [],
      "source": [
        "import pandas as pd\n",
        "import numpy as np\n",
        "import matplotlib.pyplot as plt\n",
        "import plotly.express as px\n",
        "import plotly.graph_objects as go\n",
        "import plotly.io as pio\n",
        "import seaborn as sns\n",
        "\n",
        "from matplotlib_inline.backend_inline import set_matplotlib_formats\n",
        "set_matplotlib_formats(\"svg\")\n",
        "\n",
        "pd.options.plotting.backend = \"plotly\"\n",
        "\n",
        "# DSC 40A preferred styles\n",
        "pio.templates[\"dsc40a\"] = go.layout.Template(\n",
        "    layout=dict(\n",
        "        margin=dict(l=30, r=30, t=30, b=30),\n",
        "        autosize=True,\n",
        "        xaxis=dict(showgrid=True),\n",
        "        yaxis=dict(showgrid=True),\n",
        "        title=dict(x=0.5, xanchor=\"center\"),\n",
        "    )\n",
        ")\n",
        "pio.templates.default = \"simple_white+dsc40a\"\n",
        "\n",
        "from IPython.display import HTML\n",
        "from ipywidgets import interact, widgets"
      ]
    },
    {
      "cell_type": "markdown",
      "id": "1f86a693",
      "metadata": {
        "id": "1f86a693"
      },
      "source": [
        "## Gradient descent\n",
        "\n",
        "$$f(t) = 5t^4 - t^3 - 5t^2 + 2t - 9$$"
      ]
    },
    {
      "cell_type": "code",
      "execution_count": null,
      "id": "fdf36668",
      "metadata": {
        "id": "fdf36668"
      },
      "outputs": [],
      "source": [
        "def f(t):\n",
        "    return 5 * (t**4) - (t**3) - 5 * (t**2) + 2 * t - 9\n",
        "\n",
        "def df(t):\n",
        "    return 20 * (t**3) - 3 * (t**2) - 10 * t + 2\n",
        "\n",
        "def create_tangent_line(t):\n",
        "    slope = df(t)\n",
        "    intercept = f(t) - slope * t\n",
        "    return lambda x: intercept + slope * x"
      ]
    },
    {
      "cell_type": "markdown",
      "id": "7d779745",
      "metadata": {
        "id": "7d779745"
      },
      "source": [
        "**Note**: This notebook has _lots_ of code, but you're not expected to understand most of it. Instead, most of it is there in order to set up the visualizations.\n",
        "\n",
        "Run the cell below to see a plot of our function, $f$."
      ]
    },
    {
      "cell_type": "code",
      "execution_count": null,
      "id": "27c1af7b",
      "metadata": {
        "scrolled": false,
        "id": "27c1af7b"
      },
      "outputs": [],
      "source": [
        "ts = np.linspace(-1.25, 1.25, 1000)\n",
        "ys = f(ts)\n",
        "\n",
        "fig = px.line(x=ts, y=ys)\n",
        "fig.update_layout(xaxis_title='$t$',\n",
        "                  yaxis_title='$f(t)$',\n",
        "                  title='$f(t) = 5t^4 - t^3 - 5t^2 + 2t - 9$',\n",
        "                  width=800)"
      ]
    },
    {
      "cell_type": "markdown",
      "id": "ced4f4be",
      "metadata": {
        "id": "ced4f4be"
      },
      "source": [
        "Run the cell below to see an interactive visualization, where you can change the value of $t$ and see the line tangent to $f$ that passes through the point $(t, f(t))$."
      ]
    },
    {
      "cell_type": "code",
      "execution_count": null,
      "id": "e11a0bf0",
      "metadata": {
        "scrolled": false,
        "id": "e11a0bf0"
      },
      "outputs": [],
      "source": [
        "# def show_tangent(t0):\n",
        "def show_tangent(t0):\n",
        "    tan_fn = create_tangent_line(t0)\n",
        "    fig2 = go.Figure(fig.data)\n",
        "    fig2.add_trace(go.Scatter(x=[t0], y=[f(t0)], marker={'color': 'red', 'size': 20}, showlegend=False))\n",
        "    fig2.add_trace(go.Scatter(x=[-5, 5], y=[tan_fn(-5), tan_fn(5)], line={'color': 'red'}, name='Tangent Line'))\n",
        "    fig2.update_xaxes(range=[-1.25, 1.25]).update_yaxes(range=[-12, -4])\n",
        "    fig2.update_layout(title=f'Tangent line to f(t) at t = {round(t0, 2)}<br>Slope of tangent line: {round(df(t0), 5)}', xaxis_title='$t$', yaxis_title='$f(t) = 5t^4 - t^3 - 5t^2 + 2t - 9$', showlegend=False)\n",
        "    return fig2\n",
        "\n",
        "interact(show_tangent, t0=(-1.25, 1.25))"
      ]
    },
    {
      "cell_type": "markdown",
      "id": "b4ae780d",
      "metadata": {
        "id": "b4ae780d"
      },
      "source": [
        "Run the cell below and click the **▶️ Start animation** button to see an **animated** version of the previous plot."
      ]
    },
    {
      "cell_type": "code",
      "execution_count": null,
      "id": "1252073e",
      "metadata": {
        "id": "1252073e"
      },
      "outputs": [],
      "source": [
        "play_button = {'label': '▶️ Start animation', 'method': 'animate', 'args': [None]}\n",
        "\n",
        "stop_button = dict(label='⏯️ Stop animation', method='animate', visible = True,\n",
        "            args=[(), {'frame': {'duration': 0, 'redraw': False}, 'mode': 'next', 'fromcurrent': True}])\n",
        "\n",
        "t_range = np.arange(-1.25, 1.26, 0.1)\n",
        "anim_fig = go.Figure(\n",
        "    data=[show_tangent(-1.25).data[0], show_tangent(-1.25).data[1], show_tangent(-1.25).data[2]],\n",
        "    frames=[\n",
        "        go.Frame(data=[show_tangent(t).data[0], show_tangent(t).data[1], show_tangent(t).data[2]])\n",
        "        for t in t_range\n",
        "    ],\n",
        "    layout=go.Layout(updatemenus=[dict(\n",
        "            type=\"buttons\",\n",
        "            buttons=[play_button, stop_button])])\n",
        ")\n",
        "anim_fig.update_xaxes(title='$t$', range=[-1.25, 1.25]).update_yaxes(title='$f(t) = 5t^4 - t^3 - 5t^2 + 2t - 9$', range=[-12, -4])"
      ]
    },
    {
      "cell_type": "markdown",
      "id": "545e65cd",
      "metadata": {
        "id": "545e65cd"
      },
      "source": [
        "### Gradient descent update rule\n",
        "\n",
        "Let's start with an initial guess $t_0 = 0$ and a learning rate $\\alpha = 0.01$.\n",
        "\n",
        "$$t_{i + 1} = t_i - \\alpha \\frac{df}{dt}(t_i)$$"
      ]
    },
    {
      "cell_type": "code",
      "execution_count": null,
      "id": "f43857f7",
      "metadata": {
        "id": "f43857f7"
      },
      "outputs": [],
      "source": [
        "t = 0\n",
        "for i in range(50):\n",
        "    print(round(t, 4), round(f(t), 4))\n",
        "    t = t - 0.01 * df(t)"
      ]
    },
    {
      "cell_type": "markdown",
      "id": "919a724c",
      "metadata": {
        "id": "919a724c"
      },
      "source": [
        "We see that pretty quickly, $t_i$ converges to $-0.727$! What does this look like animated? Run the cell below!"
      ]
    },
    {
      "cell_type": "code",
      "execution_count": null,
      "id": "25c722ef",
      "metadata": {
        "id": "25c722ef"
      },
      "outputs": [],
      "source": [
        "def minimizing_animation(t0, alpha):\n",
        "    t = t0\n",
        "    ts = []\n",
        "    dfts = []\n",
        "    for i in range(50):\n",
        "        ts.append(t)\n",
        "        dfts.append(df(t))\n",
        "        t = t - alpha * df(t)\n",
        "\n",
        "    grad_anim = go.Figure(\n",
        "        data=[fig.data[0], go.Scatter(x=[ts[0]], y=[f(ts[0])], marker={'size': 20}, showlegend=False)],\n",
        "        frames=[\n",
        "            go.Frame(data=[fig.data[0], go.Scatter(x=[ts[i]], y=[f(ts[i])], marker={'size': 20}, showlegend=False)])\n",
        "            for i in range(50)\n",
        "        ],\n",
        "        layout=go.Layout(updatemenus=[dict(\n",
        "            type=\"buttons\",\n",
        "            buttons=[play_button, stop_button])],\n",
        "             title=f'Gradient Descent<br>Initial Guess = {t0}&nbsp;&nbsp;&nbsp;&nbsp;Step Size = {alpha}'))\n",
        "\n",
        "\n",
        "    return grad_anim"
      ]
    },
    {
      "cell_type": "code",
      "execution_count": null,
      "id": "739c9f4e",
      "metadata": {
        "scrolled": false,
        "id": "739c9f4e"
      },
      "outputs": [],
      "source": [
        "minimizing_animation(t0=0, alpha=0.01)"
      ]
    },
    {
      "cell_type": "markdown",
      "id": "37c36b10",
      "metadata": {
        "id": "37c36b10"
      },
      "source": [
        "What if we start with a different initial guess?"
      ]
    },
    {
      "cell_type": "code",
      "execution_count": null,
      "id": "0a73973c",
      "metadata": {
        "id": "0a73973c"
      },
      "outputs": [],
      "source": [
        "minimizing_animation(t0=1.1, alpha=0.01)"
      ]
    },
    {
      "cell_type": "markdown",
      "id": "85baed12",
      "metadata": {
        "id": "85baed12"
      },
      "source": [
        "What if we use a different learning rate?"
      ]
    },
    {
      "cell_type": "code",
      "execution_count": null,
      "id": "56ee175b",
      "metadata": {
        "id": "56ee175b"
      },
      "outputs": [],
      "source": [
        "minimizing_animation(t0=0, alpha=0.1)"
      ]
    },
    {
      "cell_type": "markdown",
      "id": "cc2227ac",
      "metadata": {
        "id": "cc2227ac"
      },
      "source": [
        "Some learning rates are so large that the values of $t$ explode towards infinity! Watch what happens when we use a learning rate of 1:"
      ]
    },
    {
      "cell_type": "code",
      "execution_count": null,
      "id": "5706a239",
      "metadata": {
        "id": "5706a239"
      },
      "outputs": [],
      "source": [
        "t = 0\n",
        "for i in range(50):\n",
        "    print(round(t, 4), round(f(t), 4))\n",
        "    t = t - 1 * df(t)"
      ]
    }
  ],
  "metadata": {
    "kernelspec": {
      "display_name": "Python 3 (ipykernel)",
      "language": "python",
      "name": "python3"
    },
    "language_info": {
      "codemirror_mode": {
        "name": "ipython",
        "version": 3
      },
      "file_extension": ".py",
      "mimetype": "text/x-python",
      "name": "python",
      "nbconvert_exporter": "python",
      "pygments_lexer": "ipython3",
      "version": "3.8.18"
    },
    "colab": {
      "provenance": []
    }
  },
  "nbformat": 4,
  "nbformat_minor": 5
}