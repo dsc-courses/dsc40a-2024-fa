{
 "cells": [
  {
   "cell_type": "markdown",
   "id": "f98b8655",
   "metadata": {},
   "source": [
    "# Lecture 9 Supplementary Notebook\n",
    "\n",
    "## DSC 40A, Spring 2024"
   ]
  },
  {
   "cell_type": "markdown",
   "id": "04088016",
   "metadata": {},
   "source": [
    "The following cell sets up the necessary imports – don't worry too much about it."
   ]
  },
  {
   "cell_type": "code",
   "execution_count": null,
   "id": "425755e9",
   "metadata": {},
   "outputs": [],
   "source": [
    "import pandas as pd\n",
    "import numpy as np\n",
    "import matplotlib.pyplot as plt\n",
    "import plotly.express as px\n",
    "import plotly.graph_objects as go\n",
    "import plotly.io as pio\n",
    "import seaborn as sns\n",
    "\n",
    "from matplotlib_inline.backend_inline import set_matplotlib_formats\n",
    "set_matplotlib_formats(\"svg\")\n",
    "\n",
    "pd.options.plotting.backend = \"plotly\"\n",
    "\n",
    "# DSC 80 preferred styles\n",
    "pio.templates[\"dsc80\"] = go.layout.Template(\n",
    "    layout=dict(\n",
    "        margin=dict(l=30, r=30, t=30, b=30),\n",
    "        autosize=True,\n",
    "        xaxis=dict(showgrid=True),\n",
    "        yaxis=dict(showgrid=True),\n",
    "        title=dict(x=0.5, xanchor=\"center\"),\n",
    "    )\n",
    ")\n",
    "pio.templates.default = \"simple_white+dsc80\"\n",
    "\n",
    "from IPython.display import HTML"
   ]
  },
  {
   "cell_type": "code",
   "execution_count": null,
   "id": "d551dbb9",
   "metadata": {},
   "outputs": [],
   "source": [
    "def solve_normal_equations(X, y):\n",
    "    '''Returns the optimal parameter vector, w*, given a design matrix X and observation vector y.'''\n",
    "    return np.linalg.solve(X.T @ X, X.T @ y)"
   ]
  },
  {
   "cell_type": "code",
   "execution_count": null,
   "id": "f507a5c2",
   "metadata": {},
   "outputs": [],
   "source": [
    "def mean_squared_error(X, y, w):\n",
    "    return np.mean(np.sum((y - X @ w)**2))\n",
    "\n"
   ]
  },
  {
   "cell_type": "markdown",
   "id": "d73ee323",
   "metadata": {},
   "source": [
    "## Feature engineering and transformations\n",
    "\n",
    "### Example: Quadratic hypothesis functions\n",
    "\n",
    "Let's look at a new dataset of cars."
   ]
  },
  {
   "cell_type": "code",
   "execution_count": null,
   "id": "367e9acc",
   "metadata": {},
   "outputs": [],
   "source": [
    "cars = sns.load_dataset('mpg').dropna()\n",
    "cars.head()"
   ]
  },
  {
   "cell_type": "code",
   "execution_count": null,
   "id": "b17eb6c9",
   "metadata": {},
   "outputs": [],
   "source": [
    "px.scatter(cars, x='horsepower', y='mpg', title='MPG vs. Horsepower')"
   ]
  },
  {
   "cell_type": "markdown",
   "id": "aa840e41",
   "metadata": {},
   "source": [
    "A regular linear model here isn't great."
   ]
  },
  {
   "cell_type": "code",
   "execution_count": null,
   "id": "36609437",
   "metadata": {},
   "outputs": [],
   "source": [
    "cars['1'] = 1\n",
    "w_cars_one_feature = solve_normal_equations(cars[['1', 'horsepower']], cars['mpg'])\n",
    "w_cars_one_feature"
   ]
  },
  {
   "cell_type": "code",
   "execution_count": null,
   "id": "07ee2616",
   "metadata": {},
   "outputs": [],
   "source": [
    "px.scatter(cars, x='horsepower', y='mpg', title='MPG vs. Horsepower')\n",
    "\n",
    "x_range = np.linspace(40, 220)\n",
    "\n",
    "fig = go.Figure()\n",
    "fig.add_trace(go.Scatter(x=cars['horsepower'], y=cars['mpg'], mode='markers', name='actual'))\n",
    "fig.add_trace(go.Scatter(x=x_range, \n",
    "                         y=w_cars_one_feature[0] + w_cars_one_feature[1] * x_range, \n",
    "                         name = 'Linear Hypothesis Function', \n",
    "                         line=dict(color='red')))\n",
    "\n",
    "fig.update_layout(xaxis_title='Horsepower', yaxis_title='MPG', title='MPG vs. Horsepower')"
   ]
  },
  {
   "cell_type": "markdown",
   "id": "daca3539",
   "metadata": {},
   "source": [
    "What if we add $\\text{horsepower}^2$ as a feature? This would mean fitting a hypothesis function of the form\n",
    "\n",
    "$$\\text{predicted MPG} = w_0 + w_1 \\cdot \\text{horsepower} + w_2 \\cdot \\text{horsepower}^2$$"
   ]
  },
  {
   "cell_type": "code",
   "execution_count": null,
   "id": "18f9d931",
   "metadata": {},
   "outputs": [],
   "source": [
    "cars['horsepower^2'] = cars['horsepower']**2"
   ]
  },
  {
   "cell_type": "code",
   "execution_count": null,
   "id": "3f7dba47",
   "metadata": {},
   "outputs": [],
   "source": [
    "cars[['1', 'horsepower', 'horsepower^2']]"
   ]
  },
  {
   "cell_type": "code",
   "execution_count": null,
   "id": "db7878c1",
   "metadata": {},
   "outputs": [],
   "source": [
    "w_cars_squared = solve_normal_equations(cars[['1', 'horsepower', 'horsepower^2']], cars['mpg'])\n",
    "w_cars_squared"
   ]
  },
  {
   "cell_type": "markdown",
   "id": "8e26f584",
   "metadata": {},
   "source": [
    "Let's look at the resulting hypothesis function."
   ]
  },
  {
   "cell_type": "code",
   "execution_count": null,
   "id": "a74ad342",
   "metadata": {},
   "outputs": [],
   "source": [
    "px.scatter(cars, x='horsepower', y='mpg', title='MPG vs. Horsepower')\n",
    "\n",
    "fig = go.Figure()\n",
    "fig.add_trace(go.Scatter(x=cars['horsepower'], y=cars['mpg'], mode='markers', name='actual'))\n",
    "fig.add_trace(go.Scatter(x=x_range, \n",
    "                         y=w_cars_one_feature[0] + w_cars_one_feature[1] * x_range, \n",
    "                         name='Linear Hypothesis Function', \n",
    "                         line=dict(color='red')))\n",
    "fig.add_trace(go.Scatter(x=np.linspace(40, 220), \n",
    "                         y=w_cars_squared[0] + w_cars_squared[1] * x_range + w_cars_squared[2] * x_range**2, \n",
    "                         name='Quadratic Hypothesis Function', \n",
    "                         line=dict(color='#F7CF5D', width=5)))\n",
    "\n",
    "fig.update_layout(xaxis_title='Horsepower', yaxis_title='MPG', title='MPG vs. Horsepower')"
   ]
  },
  {
   "cell_type": "markdown",
   "id": "a7aabc98",
   "metadata": {},
   "source": [
    "Note: this hypothesis function is **quadratic as a function of horsepower**, but it's still **linear as a function of the parameters**. This means we can still use the normal equations to find $\\vec{w}^*$*."
   ]
  },
  {
   "cell_type": "markdown",
   "id": "788eef10",
   "metadata": {},
   "source": [
    "### Example: Amdahl's Law"
   ]
  },
  {
   "cell_type": "code",
   "execution_count": null,
   "id": "e454ff8d",
   "metadata": {},
   "outputs": [],
   "source": [
    "X_amdahl = np.array([[1, 1],\n",
    "                     [1, 1/2],\n",
    "                     [1, 1/4]])\n",
    "\n",
    "y_amdahl = np.array([8, 4, 3])"
   ]
  },
  {
   "cell_type": "code",
   "execution_count": null,
   "id": "ca3f9ca4",
   "metadata": {},
   "outputs": [],
   "source": [
    "solve_normal_equations(X_amdahl, y_amdahl)"
   ]
  },
  {
   "cell_type": "markdown",
   "id": "5f70acbe",
   "metadata": {},
   "source": [
    "### Example: Transformations"
   ]
  },
  {
   "cell_type": "code",
   "execution_count": null,
   "id": "adb092ab",
   "metadata": {},
   "outputs": [],
   "source": [
    "# This cell generates our dataset.\n",
    "np.random.seed(28)\n",
    "x_fake = np.linspace(0, 20, 50) + np.random.normal(loc=0, scale=0.5, size=50)\n",
    "y_fake = 0.5*np.random.normal(loc=2, scale=0.5, size=50) * np.e**(0.2 * x_fake)"
   ]
  },
  {
   "cell_type": "code",
   "execution_count": null,
   "id": "d2182a04",
   "metadata": {},
   "outputs": [],
   "source": [
    "px.scatter(x=x_fake, y=y_fake)"
   ]
  },
  {
   "cell_type": "markdown",
   "id": "e55e4723",
   "metadata": {},
   "source": [
    "As per the lecture slides, we're trying to find a hypothesis function of the form\n",
    "\n",
    "$$H(x) = w_0 e^{w_1 x}$$\n",
    "\n",
    "We re-wrote this as\n",
    "\n",
    "$$\\log H(x) = \\log w_0 + w_1 x$$\n",
    "\n",
    "As a result, our design matrix $X$ is still \n",
    "\n",
    "$$X = \\begin{bmatrix}1 & x_1 \\\\ 1 & x_2 \\\\ \\vdots & \\vdots \\\\ 1 & x_n \\end{bmatrix}$$ but our observation vector is now\n",
    "\n",
    "$$\\vec{z} = \\begin{bmatrix} \\log y_1 \\\\ \\log y_2 \\\\ \\vdots \\\\ \\log y_n \\end{bmatrix}$$\n",
    "\n",
    "and our parameter vector is $$\\vec{b} = \\begin{bmatrix} b_0 \\\\ b_1 \\end{bmatrix} = \\begin{bmatrix} \\log w_0 \\\\ w_1 \\end{bmatrix}$$"
   ]
  },
  {
   "cell_type": "code",
   "execution_count": null,
   "id": "323ebf73",
   "metadata": {},
   "outputs": [],
   "source": [
    "X_trans = np.vstack([\n",
    "    np.ones_like(x_fake),\n",
    "    x_fake\n",
    "]).T\n",
    "\n",
    "z_trans = np.log(y_fake)"
   ]
  },
  {
   "cell_type": "code",
   "execution_count": null,
   "id": "f5fdca57",
   "metadata": {},
   "outputs": [],
   "source": [
    "b_trans = solve_normal_equations(X_trans, z_trans)\n",
    "b_trans"
   ]
  },
  {
   "cell_type": "markdown",
   "id": "afb8cd74",
   "metadata": {},
   "source": [
    "Now that we have $\\vec{b}^*$, we need to solve for $\\vec{w}^*$:"
   ]
  },
  {
   "cell_type": "code",
   "execution_count": null,
   "id": "ccf5a3f5",
   "metadata": {},
   "outputs": [],
   "source": [
    "b0, b1 = b_trans"
   ]
  },
  {
   "cell_type": "code",
   "execution_count": null,
   "id": "fdd1c5f8",
   "metadata": {},
   "outputs": [],
   "source": [
    "w0_star = np.e**b0\n",
    "w1_star = b1"
   ]
  },
  {
   "cell_type": "code",
   "execution_count": null,
   "id": "1ee2dc52",
   "metadata": {},
   "outputs": [],
   "source": [
    "w0_star, w1_star"
   ]
  },
  {
   "cell_type": "markdown",
   "id": "74c33b8f",
   "metadata": {},
   "source": [
    "Let's look at a plot of the resulting hypothesis function, $H(x) = 0.965 e^{0.196 x}$, to make sure it looks reasonable."
   ]
  },
  {
   "cell_type": "code",
   "execution_count": null,
   "id": "20b9174a",
   "metadata": {},
   "outputs": [],
   "source": [
    "x_range = np.arange(0, 25)\n",
    "\n",
    "fig = go.Figure()\n",
    "fig.add_trace(go.Scatter(x=x_fake, y=y_fake, mode='markers', name='actual'))\n",
    "fig.add_trace(go.Scatter(x=x_range, \n",
    "                         y=w0_star * np.e**(w1_star * x_range), \n",
    "                         name='Exponential Hypothesis Function', \n",
    "                         line=dict(color='red')))"
   ]
  }
 ],
 "metadata": {
  "kernelspec": {
   "display_name": "Python 3 (ipykernel)",
   "language": "python",
   "name": "python3"
  },
  "language_info": {
   "codemirror_mode": {
    "name": "ipython",
    "version": 3
   },
   "file_extension": ".py",
   "mimetype": "text/x-python",
   "name": "python",
   "nbconvert_exporter": "python",
   "pygments_lexer": "ipython3",
   "version": "3.11.9"
  }
 },
 "nbformat": 4,
 "nbformat_minor": 5
}
