{
 "cells": [
  {
   "cell_type": "markdown",
   "id": "0f2d2095",
   "metadata": {},
   "source": [
    "# Lecture 13 Supplemental Notebook\n",
    "\n",
    "## DSC 40A, Spring 2024"
   ]
  },
  {
   "cell_type": "code",
   "execution_count": null,
   "id": "8cbc5c35",
   "metadata": {},
   "outputs": [],
   "source": [
    "import numpy as np"
   ]
  },
  {
   "cell_type": "markdown",
   "id": "84edbcbc",
   "metadata": {},
   "source": [
    "### Simulating the domino problem"
   ]
  },
  {
   "cell_type": "code",
   "execution_count": null,
   "id": "545cdb86",
   "metadata": {},
   "outputs": [],
   "source": [
    "tiles = [\n",
    "    f'{i}{j}' for i in range(7) for j in range(7)\n",
    "]"
   ]
  },
  {
   "cell_type": "code",
   "execution_count": null,
   "id": "072bcf0d",
   "metadata": {},
   "outputs": [],
   "source": [
    "unique_tiles = []\n",
    "for tile in tiles:\n",
    "    if tile not in unique_tiles and tile[::-1] not in unique_tiles:\n",
    "        unique_tiles.append(tile)\n",
    "\n",
    "unique_tiles"
   ]
  },
  {
   "cell_type": "code",
   "execution_count": null,
   "id": "195cd9a3",
   "metadata": {},
   "outputs": [],
   "source": [
    "len(unique_tiles)"
   ]
  },
  {
   "cell_type": "code",
   "execution_count": null,
   "id": "bd29cf76",
   "metadata": {},
   "outputs": [],
   "source": [
    "n = 1_000_000\n",
    "\n",
    "at_least_one_6 = 0\n",
    "one_side_6 = 0\n",
    "double_6 = 0\n",
    "is_double = 0\n",
    "\n",
    "for _ in range(n):\n",
    "    tile = np.random.choice(unique_tiles)\n",
    "    \n",
    "    if tile in [str(i) * 2 for i in range(7)]:\n",
    "        is_double += 1\n",
    "    \n",
    "    if '6' in tile:\n",
    "        at_least_one_6 += 1\n",
    "    \n",
    "    # Pick a random side to look at.\n",
    "    side = 1 if np.random.random() > 0.5 else 0\n",
    "    if tile[side] == '6':\n",
    "        one_side_6 += 1\n",
    "        \n",
    "    if tile == '66':\n",
    "        double_6 += 1"
   ]
  },
  {
   "cell_type": "markdown",
   "id": "8f83a669",
   "metadata": {},
   "source": [
    "Probability of a double:"
   ]
  },
  {
   "cell_type": "code",
   "execution_count": null,
   "id": "7b2f3148",
   "metadata": {},
   "outputs": [],
   "source": [
    "is_double / n"
   ]
  },
  {
   "cell_type": "markdown",
   "id": "5a9d4343",
   "metadata": {},
   "source": [
    "Probability of double 6s, given that at least one side is a 6:"
   ]
  },
  {
   "cell_type": "code",
   "execution_count": null,
   "id": "4b862367",
   "metadata": {},
   "outputs": [],
   "source": [
    "double_6 / at_least_one_6"
   ]
  },
  {
   "cell_type": "markdown",
   "id": "ea28472d",
   "metadata": {},
   "source": [
    "Probability of double 6s, given that we uncovered a single side and it was a 6:"
   ]
  },
  {
   "cell_type": "code",
   "execution_count": null,
   "id": "ef573664",
   "metadata": {
    "scrolled": true
   },
   "outputs": [],
   "source": [
    "double_6 / one_side_6"
   ]
  }
 ],
 "metadata": {
  "kernelspec": {
   "display_name": "Python 3 (ipykernel)",
   "language": "python",
   "name": "python3"
  },
  "language_info": {
   "codemirror_mode": {
    "name": "ipython",
    "version": 3
   },
   "file_extension": ".py",
   "mimetype": "text/x-python",
   "name": "python",
   "nbconvert_exporter": "python",
   "pygments_lexer": "ipython3",
   "version": "3.8.18"
  }
 },
 "nbformat": 4,
 "nbformat_minor": 5
}
