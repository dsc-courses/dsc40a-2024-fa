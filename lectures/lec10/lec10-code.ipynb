{
 "cells": [
  {
   "cell_type": "markdown",
   "id": "f98b8655",
   "metadata": {},
   "source": [
    "# Lecture 10 Supplementary Notebook\n",
    "\n",
    "## DSC 40A, Summer 2024"
   ]
  },
  {
   "cell_type": "markdown",
   "id": "04088016",
   "metadata": {},
   "source": [
    "The following cell sets up the necessary imports – don't worry too much about it."
   ]
  },
  {
   "cell_type": "code",
   "execution_count": null,
   "id": "425755e9",
   "metadata": {},
   "outputs": [],
   "source": [
    "import pandas as pd\n",
    "import numpy as np\n",
    "import matplotlib.pyplot as plt\n",
    "import plotly.express as px\n",
    "import plotly.graph_objects as go\n",
    "import plotly.io as pio\n",
    "import seaborn as sns\n",
    "\n",
    "from matplotlib_inline.backend_inline import set_matplotlib_formats\n",
    "set_matplotlib_formats(\"svg\")\n",
    "\n",
    "pd.options.plotting.backend = \"plotly\"\n",
    "\n",
    "# DSC 40A preferred styles\n",
    "pio.templates[\"dsc40a\"] = go.layout.Template(\n",
    "    layout=dict(\n",
    "        margin=dict(l=30, r=30, t=30, b=30),\n",
    "        autosize=True,\n",
    "        xaxis=dict(showgrid=True),\n",
    "        yaxis=dict(showgrid=True),\n",
    "        title=dict(x=0.5, xanchor=\"center\"),\n",
    "    )\n",
    ")\n",
    "pio.templates.default = \"simple_white+dsc40a\"\n",
    "\n",
    "from IPython.display import HTML\n",
    "from ipywidgets import interact, widgets"
   ]
  },
  {
   "cell_type": "code",
   "execution_count": null,
   "id": "0fa7a8a8",
   "metadata": {},
   "outputs": [],
   "source": [
    "def solve_normal_equations(X, y):\n",
    "    '''Returns the optimal parameter vector, w*, given a design matrix X and observation vector y.'''\n",
    "    return np.linalg.solve(X.T @ X, X.T @ y)"
   ]
  },
  {
   "cell_type": "markdown",
   "id": "d73ee323",
   "metadata": {},
   "source": [
    "## Feature engineering and transformations\n",
    "\n",
    "### Example: Quadratic hypothesis functions\n",
    "\n",
    "Let's look at a new dataset of cars."
   ]
  },
  {
   "cell_type": "code",
   "execution_count": null,
   "id": "367e9acc",
   "metadata": {},
   "outputs": [],
   "source": [
    "cars = sns.load_dataset('mpg').dropna()\n",
    "cars.head()"
   ]
  },
  {
   "cell_type": "code",
   "execution_count": null,
   "id": "48cc2f7e",
   "metadata": {},
   "outputs": [],
   "source": [
    "pio.renderers.default = 'notebook' # If the plot doesn't load for you, run this first."
   ]
  },
  {
   "cell_type": "code",
   "execution_count": null,
   "id": "b17eb6c9",
   "metadata": {},
   "outputs": [],
   "source": [
    "fig = px.scatter(cars, x='horsepower', y='mpg', title='MPG vs. Horsepower')\n",
    "fig.update_layout(xaxis_title='Horsepower', yaxis_title='MPG', title='MPG vs. Horsepower')"
   ]
  },
  {
   "cell_type": "markdown",
   "id": "aa840e41",
   "metadata": {},
   "source": [
    "A regular linear model here isn't great."
   ]
  },
  {
   "cell_type": "code",
   "execution_count": null,
   "id": "36609437",
   "metadata": {},
   "outputs": [],
   "source": [
    "cars['1'] = 1\n",
    "w_cars_one_feature = solve_normal_equations(cars[['1', 'horsepower']], cars['mpg'])\n",
    "w_cars_one_feature"
   ]
  },
  {
   "cell_type": "code",
   "execution_count": null,
   "id": "07ee2616",
   "metadata": {},
   "outputs": [],
   "source": [
    "px.scatter(cars, x='horsepower', y='mpg', title='MPG vs. Horsepower')\n",
    "\n",
    "x_range = np.linspace(40, 220)\n",
    "\n",
    "fig = go.Figure()\n",
    "fig.add_trace(go.Scatter(x=cars['horsepower'], y=cars['mpg'], mode='markers', name='actual'))\n",
    "fig.add_trace(go.Scatter(x=x_range, \n",
    "                         y=w_cars_one_feature[0] + w_cars_one_feature[1] * x_range, \n",
    "                         name = 'Linear Hypothesis Function', \n",
    "                         line=dict(color='red')))\n",
    "\n",
    "fig.update_layout(xaxis_title='Horsepower', yaxis_title='MPG', title='MPG vs. Horsepower')"
   ]
  },
  {
   "cell_type": "markdown",
   "id": "daca3539",
   "metadata": {},
   "source": [
    "What if we add $\\text{horsepower}^2$ as a feature? This would mean fitting a hypothesis function of the form\n",
    "\n",
    "$$\\text{predicted MPG} = w_0 + w_1 \\cdot \\text{horsepower} + w_2 \\cdot \\text{horsepower}^2$$"
   ]
  },
  {
   "cell_type": "code",
   "execution_count": null,
   "id": "18f9d931",
   "metadata": {},
   "outputs": [],
   "source": [
    "cars['horsepower^2'] = cars['horsepower']**2"
   ]
  },
  {
   "cell_type": "code",
   "execution_count": null,
   "id": "3f7dba47",
   "metadata": {},
   "outputs": [],
   "source": [
    "cars[['1', 'horsepower', 'horsepower^2']]"
   ]
  },
  {
   "cell_type": "code",
   "execution_count": null,
   "id": "db7878c1",
   "metadata": {},
   "outputs": [],
   "source": [
    "w_cars_squared = solve_normal_equations(cars[['1', 'horsepower', 'horsepower^2']], cars['mpg'])\n",
    "w_cars_squared"
   ]
  },
  {
   "cell_type": "markdown",
   "id": "8e26f584",
   "metadata": {},
   "source": [
    "Let's look at the resulting hypothesis function."
   ]
  },
  {
   "cell_type": "code",
   "execution_count": null,
   "id": "a74ad342",
   "metadata": {},
   "outputs": [],
   "source": [
    "px.scatter(cars, x='horsepower', y='mpg', title='MPG vs. Horsepower')\n",
    "\n",
    "fig = go.Figure()\n",
    "fig.add_trace(go.Scatter(x=cars['horsepower'], y=cars['mpg'], mode='markers', name='actual'))\n",
    "fig.add_trace(go.Scatter(x=x_range, \n",
    "                         y=w_cars_one_feature[0] + w_cars_one_feature[1] * x_range, \n",
    "                         name='Linear Hypothesis Function', \n",
    "                         line=dict(color='red')))\n",
    "fig.add_trace(go.Scatter(x=np.linspace(40, 220), \n",
    "                         y=w_cars_squared[0] + w_cars_squared[1] * x_range + w_cars_squared[2] * x_range**2, \n",
    "                         name='Quadratic Hypothesis Function', \n",
    "                         line=dict(color='#F7CF5D', width=5)))\n",
    "\n",
    "fig.update_layout(xaxis_title='Horsepower', yaxis_title='MPG', title='MPG vs. Horsepower')"
   ]
  },
  {
   "cell_type": "markdown",
   "id": "a7aabc98",
   "metadata": {},
   "source": [
    "Note: this hypothesis function is **quadratic as a function of horsepower**, but it's still **linear as a function of the parameters**. This means we can still use the normal equations to find $\\vec{w}^*$*."
   ]
  },
  {
   "cell_type": "markdown",
   "id": "788eef10",
   "metadata": {},
   "source": [
    "### Example: Amdahl's Law"
   ]
  },
  {
   "cell_type": "code",
   "execution_count": null,
   "id": "e454ff8d",
   "metadata": {},
   "outputs": [],
   "source": [
    "X_amdahl = np.array([[1, 1],\n",
    "                     [1, 1/2],\n",
    "                     [1, 1/4]])\n",
    "\n",
    "y_amdahl = np.array([8, 4, 3])"
   ]
  },
  {
   "cell_type": "code",
   "execution_count": null,
   "id": "ca3f9ca4",
   "metadata": {},
   "outputs": [],
   "source": [
    "solve_normal_equations(X_amdahl, y_amdahl)"
   ]
  },
  {
   "cell_type": "markdown",
   "id": "5f70acbe",
   "metadata": {},
   "source": [
    "### Example: Transformations"
   ]
  },
  {
   "cell_type": "code",
   "execution_count": null,
   "id": "adb092ab",
   "metadata": {},
   "outputs": [],
   "source": [
    "# This cell generates our dataset.\n",
    "np.random.seed(28)\n",
    "x_fake = np.linspace(0, 20, 50) + np.random.normal(loc=0, scale=0.5, size=50)\n",
    "y_fake = 0.5*np.random.normal(loc=2, scale=0.5, size=50) * np.e**(0.2 * x_fake)"
   ]
  },
  {
   "cell_type": "code",
   "execution_count": null,
   "id": "d2182a04",
   "metadata": {},
   "outputs": [],
   "source": [
    "px.scatter(x=x_fake, y=y_fake)"
   ]
  },
  {
   "cell_type": "markdown",
   "id": "e55e4723",
   "metadata": {},
   "source": [
    "As per the lecture slides, we're trying to find a hypothesis function of the form\n",
    "\n",
    "$$H(x) = w_0 e^{w_1 x}$$\n",
    "\n",
    "We re-wrote this as\n",
    "\n",
    "$$\\log H(x) = \\log w_0 + w_1 x$$\n",
    "\n",
    "As a result, our design matrix $X$ is still \n",
    "\n",
    "$$X = \\begin{bmatrix}1 & x_1 \\\\ 1 & x_2 \\\\ \\vdots & \\vdots \\\\ 1 & x_n \\end{bmatrix}$$ but our observation vector is now\n",
    "\n",
    "$$\\vec{z} = \\begin{bmatrix} \\log y_1 \\\\ \\log y_2 \\\\ \\vdots \\\\ \\log y_n \\end{bmatrix}$$\n",
    "\n",
    "and our parameter vector is $$\\vec{b} = \\begin{bmatrix} b_0 \\\\ b_1 \\end{bmatrix} = \\begin{bmatrix} \\log w_0 \\\\ w_1 \\end{bmatrix}$$"
   ]
  },
  {
   "cell_type": "code",
   "execution_count": null,
   "id": "323ebf73",
   "metadata": {},
   "outputs": [],
   "source": [
    "X_trans = np.vstack([\n",
    "    np.ones_like(x_fake),\n",
    "    x_fake\n",
    "]).T\n",
    "\n",
    "z_trans = np.log(y_fake)"
   ]
  },
  {
   "cell_type": "code",
   "execution_count": null,
   "id": "f5fdca57",
   "metadata": {},
   "outputs": [],
   "source": [
    "b_trans = solve_normal_equations(X_trans, z_trans)\n",
    "b_trans"
   ]
  },
  {
   "cell_type": "markdown",
   "id": "afb8cd74",
   "metadata": {},
   "source": [
    "Now that we have $\\vec{b}^*$, we need to solve for $\\vec{w}^*$:"
   ]
  },
  {
   "cell_type": "code",
   "execution_count": null,
   "id": "ccf5a3f5",
   "metadata": {},
   "outputs": [],
   "source": [
    "b0, b1 = b_trans"
   ]
  },
  {
   "cell_type": "code",
   "execution_count": null,
   "id": "fdd1c5f8",
   "metadata": {},
   "outputs": [],
   "source": [
    "w0_star = np.e**b0\n",
    "w1_star = b1"
   ]
  },
  {
   "cell_type": "code",
   "execution_count": null,
   "id": "1ee2dc52",
   "metadata": {},
   "outputs": [],
   "source": [
    "w0_star, w1_star"
   ]
  },
  {
   "cell_type": "markdown",
   "id": "74c33b8f",
   "metadata": {},
   "source": [
    "Let's look at a plot of the resulting hypothesis function, $H(x) = 0.965 e^{0.196 x}$, to make sure it looks reasonable."
   ]
  },
  {
   "cell_type": "code",
   "execution_count": null,
   "id": "20b9174a",
   "metadata": {},
   "outputs": [],
   "source": [
    "x_range = np.arange(0, 25)\n",
    "\n",
    "fig = go.Figure()\n",
    "fig.add_trace(go.Scatter(x=x_fake, y=y_fake, mode='markers', name='actual'))\n",
    "fig.add_trace(go.Scatter(x=x_range, \n",
    "                         y=w0_star * np.e**(w1_star * x_range), \n",
    "                         name='Exponential Hypothesis Function', \n",
    "                         line=dict(color='red')))"
   ]
  },
  {
   "cell_type": "markdown",
   "id": "1f86a693",
   "metadata": {},
   "source": [
    "## Gradient descent\n",
    "\n",
    "$$f(t) = 5t^4 - t^3 - 5t^2 + 2t - 9$$"
   ]
  },
  {
   "cell_type": "code",
   "execution_count": null,
   "id": "fdf36668",
   "metadata": {},
   "outputs": [],
   "source": [
    "def f(t):\n",
    "    return 5 * (t**4) - (t**3) - 5 * (t**2) + 2 * t - 9\n",
    "\n",
    "def df(t):\n",
    "    return 20 * (t**3) - 3 * (t**2) - 10 * t + 2\n",
    "\n",
    "def create_tangent_line(t):\n",
    "    slope = df(t)\n",
    "    intercept = f(t) - slope * t\n",
    "    return lambda x: intercept + slope * x"
   ]
  },
  {
   "cell_type": "markdown",
   "id": "7d779745",
   "metadata": {},
   "source": [
    "**Note**: This notebook has _lots_ of code, but you're not expected to understand most of it. Instead, most of it is there in order to set up the visualizations.\n",
    "\n",
    "Run the cell below to see a plot of our function, $f$."
   ]
  },
  {
   "cell_type": "code",
   "execution_count": null,
   "id": "27c1af7b",
   "metadata": {
    "scrolled": false
   },
   "outputs": [],
   "source": [
    "ts = np.linspace(-1.25, 1.25, 1000)\n",
    "ys = f(ts)\n",
    "\n",
    "fig = px.line(x=ts, y=ys)\n",
    "fig.update_layout(xaxis_title='$t$', \n",
    "                  yaxis_title='$f(t)$', \n",
    "                  title='$f(t) = 5t^4 - t^3 - 5t^2 + 2t - 9$',\n",
    "                  width=800)"
   ]
  },
  {
   "cell_type": "markdown",
   "id": "ced4f4be",
   "metadata": {},
   "source": [
    "Run the cell below to see an interactive visualization, where you can change the value of $t$ and see the line tangent to $f$ that passes through the point $(t, f(t))$."
   ]
  },
  {
   "cell_type": "code",
   "execution_count": null,
   "id": "e11a0bf0",
   "metadata": {
    "scrolled": false
   },
   "outputs": [],
   "source": [
    "# def show_tangent(t0):\n",
    "def show_tangent(t0):\n",
    "    tan_fn = create_tangent_line(t0)\n",
    "    fig2 = go.Figure(fig.data)\n",
    "    fig2.add_trace(go.Scatter(x=[t0], y=[f(t0)], marker={'color': 'red', 'size': 20}, showlegend=False))\n",
    "    fig2.add_trace(go.Scatter(x=[-5, 5], y=[tan_fn(-5), tan_fn(5)], line={'color': 'red'}, name='Tangent Line'))\n",
    "    fig2.update_xaxes(range=[-1.25, 1.25]).update_yaxes(range=[-12, -4])\n",
    "    fig2.update_layout(title=f'Tangent line to f(t) at t = {round(t0, 2)}<br>Slope of tangent line: {round(df(t0), 5)}', xaxis_title='$t$', yaxis_title='$f(t) = 5t^4 - t^3 - 5t^2 + 2t - 9$', showlegend=False)\n",
    "    return fig2\n",
    "\n",
    "interact(show_tangent, t0=(-1.25, 1.25))"
   ]
  },
  {
   "cell_type": "markdown",
   "id": "b4ae780d",
   "metadata": {},
   "source": [
    "Run the cell below and click the **▶️ Start animation** button to see an **animated** version of the previous plot."
   ]
  },
  {
   "cell_type": "code",
   "execution_count": null,
   "id": "1252073e",
   "metadata": {},
   "outputs": [],
   "source": [
    "play_button = {'label': '▶️ Start animation', 'method': 'animate', 'args': [None]}\n",
    "\n",
    "stop_button = dict(label='⏯️ Stop animation', method='animate', visible = True,\n",
    "            args=[(), {'frame': {'duration': 0, 'redraw': False}, 'mode': 'next', 'fromcurrent': True}])\n",
    "\n",
    "t_range = np.arange(-1.25, 1.26, 0.1)\n",
    "anim_fig = go.Figure(\n",
    "    data=[show_tangent(-1.25).data[0], show_tangent(-1.25).data[1], show_tangent(-1.25).data[2]],\n",
    "    frames=[\n",
    "        go.Frame(data=[show_tangent(t).data[0], show_tangent(t).data[1], show_tangent(t).data[2]])\n",
    "        for t in t_range\n",
    "    ],\n",
    "    layout=go.Layout(updatemenus=[dict(\n",
    "            type=\"buttons\",\n",
    "            buttons=[play_button, stop_button])])\n",
    ")\n",
    "anim_fig.update_xaxes(title='$t$', range=[-1.25, 1.25]).update_yaxes(title='$f(t) = 5t^4 - t^3 - 5t^2 + 2t - 9$', range=[-12, -4])"
   ]
  },
  {
   "cell_type": "markdown",
   "id": "545e65cd",
   "metadata": {},
   "source": [
    "### Gradient descent update rule\n",
    "\n",
    "Let's start with an initial guess $t_0 = 0$ and a learning rate $\\alpha = 0.01$.\n",
    "\n",
    "$$t_{i + 1} = t_i - \\alpha \\frac{df}{dt}(t_i)$$"
   ]
  },
  {
   "cell_type": "code",
   "execution_count": null,
   "id": "f43857f7",
   "metadata": {},
   "outputs": [],
   "source": [
    "t = 0\n",
    "for i in range(50):\n",
    "    print(round(t, 4), round(f(t), 4))\n",
    "    t = t - 0.01 * df(t)"
   ]
  },
  {
   "cell_type": "markdown",
   "id": "919a724c",
   "metadata": {},
   "source": [
    "We see that pretty quickly, $t_i$ converges to $-0.727$! What does this look like animated? Run the cell below!"
   ]
  },
  {
   "cell_type": "code",
   "execution_count": null,
   "id": "25c722ef",
   "metadata": {},
   "outputs": [],
   "source": [
    "def minimizing_animation(t0, alpha):\n",
    "    t = t0\n",
    "    ts = []\n",
    "    dfts = []\n",
    "    for i in range(50):\n",
    "        ts.append(t)\n",
    "        dfts.append(df(t))\n",
    "        t = t - alpha * df(t)\n",
    "        \n",
    "    grad_anim = go.Figure(\n",
    "        data=[fig.data[0], go.Scatter(x=[ts[0]], y=[f(ts[0])], marker={'size': 20}, showlegend=False)],\n",
    "        frames=[\n",
    "            go.Frame(data=[fig.data[0], go.Scatter(x=[ts[i]], y=[f(ts[i])], marker={'size': 20}, showlegend=False)])\n",
    "            for i in range(50)\n",
    "        ],\n",
    "        layout=go.Layout(updatemenus=[dict(\n",
    "            type=\"buttons\",\n",
    "            buttons=[play_button, stop_button])],\n",
    "             title=f'Gradient Descent<br>Initial Guess = {t0}&nbsp;&nbsp;&nbsp;&nbsp;Step Size = {alpha}'))\n",
    "                                      \n",
    "    \n",
    "    return grad_anim"
   ]
  },
  {
   "cell_type": "code",
   "execution_count": null,
   "id": "739c9f4e",
   "metadata": {
    "scrolled": false
   },
   "outputs": [],
   "source": [
    "minimizing_animation(t0=0, alpha=0.01)"
   ]
  },
  {
   "cell_type": "markdown",
   "id": "37c36b10",
   "metadata": {},
   "source": [
    "What if we start with a different initial guess?"
   ]
  },
  {
   "cell_type": "code",
   "execution_count": null,
   "id": "0a73973c",
   "metadata": {},
   "outputs": [],
   "source": [
    "minimizing_animation(t0=1.1, alpha=0.01)"
   ]
  },
  {
   "cell_type": "markdown",
   "id": "85baed12",
   "metadata": {},
   "source": [
    "What if we use a different learning rate?"
   ]
  },
  {
   "cell_type": "code",
   "execution_count": null,
   "id": "56ee175b",
   "metadata": {},
   "outputs": [],
   "source": [
    "minimizing_animation(t0=0, alpha=0.1)"
   ]
  },
  {
   "cell_type": "markdown",
   "id": "cc2227ac",
   "metadata": {},
   "source": [
    "Some learning rates are so large that the values of $t$ explode towards infinity! Watch what happens when we use a learning rate of 1:"
   ]
  },
  {
   "cell_type": "code",
   "execution_count": null,
   "id": "5706a239",
   "metadata": {},
   "outputs": [],
   "source": [
    "t = 0\n",
    "for i in range(50):\n",
    "    print(round(t, 4), round(f(t), 4))\n",
    "    t = t - 1 * df(t)"
   ]
  }
 ],
 "metadata": {
  "kernelspec": {
   "display_name": "Python 3 (ipykernel)",
   "language": "python",
   "name": "python3"
  },
  "language_info": {
   "codemirror_mode": {
    "name": "ipython",
    "version": 3
   },
   "file_extension": ".py",
   "mimetype": "text/x-python",
   "name": "python",
   "nbconvert_exporter": "python",
   "pygments_lexer": "ipython3",
   "version": "3.11.5"
  }
 },
 "nbformat": 4,
 "nbformat_minor": 5
}
